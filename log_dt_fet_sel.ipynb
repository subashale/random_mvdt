{
 "cells": [
  {
   "cell_type": "code",
   "execution_count": 1,
   "metadata": {},
   "outputs": [],
   "source": [
    "#importing respective libraries and setting up the enviornment\n",
    "from IPython.core.interactiveshell import InteractiveShell\n",
    "InteractiveShell.ast_node_interactivity = \"all\"\n",
    "\n",
    "import pandas as pd\n",
    "import numpy as np\n",
    "\n",
    "from sklearn.linear_model import LogisticRegression\n",
    "from sklearn.metrics import classification_report, accuracy_score, confusion_matrix\n",
    "\n",
    "\n",
    "import matplotlib.pyplot as plt\n",
    "import seaborn as sns\n",
    "\n",
    "from log_dt_class import DecisionNode, Leaf\n",
    "from log_dt_helper import best_split, partition\n",
    "\n",
    "import data_viz as dviz"
   ]
  },
  {
   "cell_type": "code",
   "execution_count": 2,
   "metadata": {},
   "outputs": [],
   "source": [
    "#loading the data\n",
    "#data =\"data/weight-height.csv\"\n",
    "#data = \"data/circle.csv\"\n",
    "\n",
    "#data = \"data/triangle.csv\"\n",
    "#data = \"data/linear.csv\"\n",
    "data = \"data/024f2liris.csv\"\n",
    "#data = \"data/3rd.csv\"\n",
    "df = pd.read_csv(data)\n",
    "\n",
    "x = np.array(df[df.columns[:-1]].values.tolist(), dtype=np.float64)\n",
    "y = np.array(df[df.columns[-1]].values.tolist())\n",
    "data=np.c_[x,y]"
   ]
  },
  {
   "cell_type": "code",
   "execution_count": 3,
   "metadata": {},
   "outputs": [
    {
     "data": {
      "image/png": "[encoded data removed]",
      "text/plain": [
       "<Figure size 360x360 with 1 Axes>"
      ]
     },
     "metadata": {
      "needs_background": "light"
     },
     "output_type": "display_data"
    }
   ],
   "source": [
    "dviz.DDScatterDFSns(0, 1, df)"
   ]
  },
  {
   "cell_type": "code",
   "execution_count": 4,
   "metadata": {},
   "outputs": [],
   "source": [
    "clf = LogisticRegression(solver='lbfgs')\n",
    "max_depth = 4"
   ]
  },
  {
   "cell_type": "code",
   "execution_count": 5,
   "metadata": {},
   "outputs": [],
   "source": [
    "# best split\n",
    "def best_split(rows, clf):\n",
    "    #clf = LogisticRegression(solver='lbfgs')\n",
    "\n",
    "    # rows[0]: features, rows[1]:label\n",
    "\n",
    "    clf.fit(rows[0], rows[1])\n",
    "\n",
    "    theta = np.append(clf.coef_, clf.intercept_)\n",
    "    pred = clf.predict(rows[0])\n",
    "\n",
    "    return clf, theta, pred\n",
    "\n",
    "\n",
    "def partition(rows, pred):\n",
    "    left_rows = np.where(pred > 0)\n",
    "    right_rows = np.where(pred <= 0)\n",
    "\n",
    "    # check node's purity\n",
    "    # pos_idx = np.where(y[true_rows] == 1)\n",
    "    # neg_idx = np.where(y[side] == 0)\n",
    "\n",
    "    Xl = rows[0][left_rows]\n",
    "    yl = rows[-1][left_rows]\n",
    "\n",
    "    Xr = rows[0][right_rows]\n",
    "    yr = rows[-1][right_rows]\n",
    "\n",
    "    return [Xl, yl], [Xr, yr]\n",
    "\n",
    "def print_tree(node,indentation=\"\"):\n",
    "    '''printing function'''\n",
    "    #base case means we have reached the leaf\n",
    "    #if the node object is of leaf type\n",
    "    if isinstance(node,Leaf):\n",
    "        print(indentation+\"PREDICTION\"+str(node.question)+\">= 0\")\n",
    "        return \n",
    "    #print the question at node\n",
    "    print(indentation + str(node.question)+\">= 0\")\n",
    "    \n",
    "    #call the function on true branch \n",
    "    print(indentation+ \"Left Branch\")\n",
    "    print_tree(node.true_branch,indentation + \"-->\")\n",
    "    \n",
    "    #on flase branch\n",
    "    print(indentation+ \"Right Branch\")\n",
    "    print_tree(node.false_branch,indentation + \"-->\")"
   ]
  },
  {
   "cell_type": "code",
   "execution_count": 6,
   "metadata": {},
   "outputs": [],
   "source": [
    "# best feature selection for a node\n",
    "# min feature 2\n",
    "def best_feature_selection(input_features):\n",
    "    # for now best feature are frist and second columns\n",
    "    return np.column_stack((input_features[:, 0], input_features[:, 1]))"
   ]
  },
  {
   "cell_type": "code",
   "execution_count": 7,
   "metadata": {},
   "outputs": [
    {
     "data": {
      "text/plain": [
       "array([[5.1, 3.5],\n",
       "       [4.9, 3. ],\n",
       "       [4.7, 3.2],\n",
       "       [4.6, 3.1],\n",
       "       [5. , 3.6]])"
      ]
     },
     "execution_count": 7,
     "metadata": {},
     "output_type": "execute_result"
    }
   ],
   "source": [
    "x_best = best_feature_selection(x)\n",
    "x_best[:5]"
   ]
  },
  {
   "cell_type": "code",
   "execution_count": 8,
   "metadata": {},
   "outputs": [],
   "source": [
    "# for now best features are x1, and x2\n",
    "def build_tree(rows, depth=1):    \n",
    "    \n",
    "    model, theta, pred = best_split([x_best, y], clf)    \n",
    "    \n",
    "    if depth >= max_depth:\n",
    "        return Leaf(theta, rows)\n",
    "    \n",
    "    \n",
    "    pos_idx = np.where(y[rows[-1]] == 1)\n",
    "    neg_idx = np.where(y[rows[-1]] == 0)\n",
    "    \n",
    "    if len(pos_idx[0]) < 20 and len(neg_idx[0]) < 20:        \n",
    "        return Leaf(theta, rows)        \n",
    "        \n",
    "    true_rows, false_rows = partition([x, y], pred)\n",
    "    \n",
    "    tunique, tcounts = np.unique(true_rows[-1], return_counts=True)\n",
    "    funique, fcounts = np.unique(false_rows[-1], return_counts=True)\n",
    "    \n",
    "    if len(tcounts) == 1 or len(fcounts) == 1:\n",
    "        #make a leaf object and return\n",
    "        return Leaf(theta, rows)\n",
    "    \n",
    "    if len(true_rows[-1]) > 20 and len(false_rows[-1]) > 20:\n",
    "    #if tcounts[0] > 20 and tcounts[1] > 20 or fcounts[0] > 20 and fcounts[1] > 20:\n",
    "        \n",
    "        true_branch = build_tree(true_rows, depth+1)            \n",
    "        false_branch = build_tree(false_rows, depth+1)\n",
    "        \n",
    "        return DecisionNode(theta, true_branch, false_branch, rows)\n",
    "    else: \n",
    "        return Leaf(theta, rows)"
   ]
  },
  {
   "cell_type": "code",
   "execution_count": 9,
   "metadata": {},
   "outputs": [],
   "source": [
    "tree = build_tree([x_best, y])"
   ]
  },
  {
   "cell_type": "code",
   "execution_count": 10,
   "metadata": {},
   "outputs": [
    {
     "name": "stdout",
     "output_type": "stream",
     "text": [
      "PREDICTION[  3.15917172  -2.2137433  -10.86320465]>= 0\n"
     ]
    }
   ],
   "source": [
    "print_tree(tree)"
   ]
  },
  {
   "cell_type": "code",
   "execution_count": 11,
   "metadata": {},
   "outputs": [
    {
     "ename": "NameError",
     "evalue": "name 'model' is not defined",
     "output_type": "error",
     "traceback": [
      "\u001b[1;31m---------------------------------------------------------------------------\u001b[0m",
      "\u001b[1;31mNameError\u001b[0m                                 Traceback (most recent call last)",
      "\u001b[1;32m<ipython-input-11-d11ef0591717>\u001b[0m in \u001b[0;36m<module>\u001b[1;34m\u001b[0m\n\u001b[0;32m      3\u001b[0m \u001b[1;31m# check from root node to left with each decision boundary feature value\u001b[0m\u001b[1;33m\u001b[0m\u001b[1;33m\u001b[0m\u001b[1;33m\u001b[0m\u001b[0m\n\u001b[0;32m      4\u001b[0m \u001b[1;33m\u001b[0m\u001b[0m\n\u001b[1;32m----> 5\u001b[1;33m \u001b[0mmodel\u001b[0m\u001b[1;33m.\u001b[0m\u001b[0mscore\u001b[0m\u001b[1;33m(\u001b[0m\u001b[0mx_best\u001b[0m\u001b[1;33m,\u001b[0m \u001b[0my\u001b[0m\u001b[1;33m)\u001b[0m\u001b[1;33m\u001b[0m\u001b[1;33m\u001b[0m\u001b[0m\n\u001b[0m",
      "\u001b[1;31mNameError\u001b[0m: name 'model' is not defined"
     ]
    }
   ],
   "source": [
    "# how to predict ?\n",
    "# we have to make same process as classic decision tree \n",
    "# check from root node to left with each decision boundary feature value\n",
    "\n",
    "model.score(x_best, y)"
   ]
  },
  {
   "cell_type": "code",
   "execution_count": null,
   "metadata": {},
   "outputs": [],
   "source": []
  }
 ],
 "metadata": {
  "kernelspec": {
   "display_name": "Python 3",
   "language": "python",
   "name": "python3"
  },
  "language_info": {
   "codemirror_mode": {
    "name": "ipython",
    "version": 3
   },
   "file_extension": ".py",
   "mimetype": "text/x-python",
   "name": "python",
   "nbconvert_exporter": "python",
   "pygments_lexer": "ipython3",
   "version": "3.7.3"
  }
 },
 "nbformat": 4,
 "nbformat_minor": 4
}
