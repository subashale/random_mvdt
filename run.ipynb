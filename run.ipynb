{
 "cells": [
  {
   "cell_type": "code",
   "execution_count": 1,
   "metadata": {},
   "outputs": [],
   "source": [
    "from IPython.core.interactiveshell import InteractiveShell\n",
    "InteractiveShell.ast_node_interactivity = \"all\"\n",
    "\n",
    "import pandas as pd\n",
    "import numpy as np\n",
    "import random \n",
    "import seaborn as sns\n",
    "from math import log2\n",
    "import matplotlib.pyplot as plt\n",
    "from sklearn.model_selection import train_test_split\n",
    "from sklearn.utils import shuffle\n",
    "from sklearn.metrics import classification_report, accuracy_score, confusion_matrix\n",
    "\n",
    "# calling helper funtions\n",
    "import data_prepare as dp\n",
    "import data_viz as dviz\n",
    "import data_split as ds\n",
    "import prediction as pred"
   ]
  },
  {
   "cell_type": "code",
   "execution_count": 29,
   "metadata": {},
   "outputs": [
    {
     "data": {
      "image/png": "[encoded data removed]",
      "text/plain": [
       "<Figure size 360x360 with 1 Axes>"
      ]
     },
     "metadata": {
      "needs_background": "light"
     },
     "output_type": "display_data"
    }
   ],
   "source": [
    "# more than two features \n",
    "df = pd.read_csv(\"data/104f2liris.csv\")\n",
    "#df = pd.read_csv(\"data/024f2liris.csv\")\n",
    "#df = pd.read_csv(\"data/124f2liris.csv\")\n",
    "\n",
    "# more than two classes\n",
    "\n",
    "# perfect two class two features\n",
    "\n",
    "#df = pd.read_csv(\"data/circle.csv\")\n",
    "#df = pd.read_csv(\"data/weight-height.csv\")\n",
    "#df = pd.read_csv(\"data/triangle.csv\")\n",
    "dviz.DDScatterDFSns(0, 1, df)"
   ]
  },
  {
   "cell_type": "code",
   "execution_count": 30,
   "metadata": {},
   "outputs": [],
   "source": [
    "X = np.array(df[df.columns[:-1]].values.tolist(), dtype=np.float64)\n",
    "label = np.array(df[df.columns[-1]].values.tolist())\n",
    "index = 0\n",
    "to_split = [[X, label, index]]\n",
    "t_split = to_split\n",
    "tree_depth = 4\n",
    "epochs = 1000\n",
    "min_pts = 5\n",
    "# childs can be 2^tree_depth len of columns + 3 (bias, left and right)\n",
    "tree = np.zeros((2**tree_depth, len(X[0])+3))\n",
    "next_free = 0\n"
   ]
  },
  {
   "cell_type": "code",
   "execution_count": 31,
   "metadata": {},
   "outputs": [
    {
     "name": "stderr",
     "output_type": "stream",
     "text": [
      "C:\\Users\\subash\\Anaconda3\\envs\\thesis\\lib\\site-packages\\ipykernel_launcher.py:51: FutureWarning: Using a non-tuple sequence for multidimensional indexing is deprecated; use `arr[tuple(seq)]` instead of `arr[seq]`. In the future this will be interpreted as an array index, `arr[np.array(seq)]`, which will result either in an error or a different result.\n",
      "C:\\Users\\subash\\Anaconda3\\envs\\thesis\\lib\\site-packages\\ipykernel_launcher.py:52: FutureWarning: Using a non-tuple sequence for multidimensional indexing is deprecated; use `arr[tuple(seq)]` instead of `arr[seq]`. In the future this will be interpreted as an array index, `arr[np.array(seq)]`, which will result either in an error or a different result.\n",
      "C:\\Users\\subash\\Anaconda3\\envs\\thesis\\lib\\site-packages\\ipykernel_launcher.py:70: FutureWarning: Using a non-tuple sequence for multidimensional indexing is deprecated; use `arr[tuple(seq)]` instead of `arr[seq]`. In the future this will be interpreted as an array index, `arr[np.array(seq)]`, which will result either in an error or a different result.\n",
      "C:\\Users\\subash\\Anaconda3\\envs\\thesis\\lib\\site-packages\\ipykernel_launcher.py:71: FutureWarning: Using a non-tuple sequence for multidimensional indexing is deprecated; use `arr[tuple(seq)]` instead of `arr[seq]`. In the future this will be interpreted as an array index, `arr[np.array(seq)]`, which will result either in an error or a different result.\n"
     ]
    }
   ],
   "source": [
    "#to_split = df\n",
    "\n",
    "for depth in range(tree_depth):\n",
    "    tmp_split = []\n",
    "    \n",
    "    # shfuffling for each node\n",
    "    #to_split = shuffle(to_split)\n",
    "    # for each left and right node\n",
    "    for i in range(len(to_split)):        \n",
    "        # checking if pos and neg data to separate\n",
    "        if len(to_split[i]) == 0:\n",
    "            print(\"No further point to separate\")\n",
    "            continue\n",
    "        \n",
    "        # 0 index for feature 1 for label, 2 for index position\n",
    "        X2 = to_split[i][0]\n",
    "        label2 = to_split[i][1]\n",
    "        \n",
    "        #X2, label2, pos, neg = dp.data_giver(to_split)\n",
    "        pos, neg = dp.pos_neg_giver(to_split[i])        \n",
    "        \n",
    "        # best_gain; highest the information gain will be good\n",
    "        best_gain = 0\n",
    "        # best_theta = coefficient or line\n",
    "        best_theta = []\n",
    "        # best_pos_side, best_neg_side = data points for pos and negative after the best_gain split\n",
    "        best_pos_side = []\n",
    "        best_neg_side = []\n",
    "\n",
    "        for epoch in range(epochs):\n",
    "            # find random feature points as linear combination\n",
    "            p = random.choice(pos)\n",
    "            n = random.choice(neg)\n",
    "\n",
    "            # getting parameters from split\n",
    "            gain, pos_side, neg_side, theta = ds.split_data(X2, label2, pos, neg, p, n)\n",
    "            #print(gain)\n",
    "\n",
    "            # checking for best gain and setting rest parameters of it\n",
    "            if gain > best_gain:\n",
    "                best_gain = gain\n",
    "                best_pos_side = pos_side\n",
    "                best_neg_side = neg_side\n",
    "                best_theta = theta\n",
    "\n",
    "                #dviz.viz_data_with_line(best_theta, to_split)                \n",
    "\n",
    "        # building tree\n",
    "        if depth != tree_depth:\n",
    "            # check left node's purity\n",
    "            pos_idx = np.where(label2[[best_pos_side]] == 1)\n",
    "            neg_idx = np.where(label2[[best_pos_side]] == 0)\n",
    "\n",
    "            if len(pos_idx) == 0 or len(neg_idx) == 0:\n",
    "                print(\"pure node found in left\\n\")\n",
    "            else:\n",
    "                if len(pos_idx[0]) > min_pts and len(neg_idx[0]) > min_pts:\n",
    "\n",
    "                    # making sub dataframe for left\n",
    "                    left_x = X2[best_pos_side]\n",
    "                    left_label = label2[best_pos_side]\n",
    "                    next_free += 1\n",
    "\n",
    "                    tree[to_split[i][2]][3] = next_free                \n",
    "                    #for circle and triangle\n",
    "                    #tmp_split = [tmp_split, [left_x, left_label, next_free]]                                        \n",
    "                    tmp_split.append([left_x, left_label, next_free])\n",
    "            \n",
    "            # check right node's purity\n",
    "            pos_idx = np.where(label2[[best_neg_side]] == 1)\n",
    "            neg_idx = np.where(label2[[best_neg_side]] == 0)\n",
    "\n",
    "            if len(pos_idx) == 0 or len(neg_idx) == 0:\n",
    "                print(\"pure node found in right\\n\")\n",
    "            else:\n",
    "                if len(pos_idx[0]) > min_pts and len(neg_idx[0]) > min_pts:\n",
    "\n",
    "                    # making sub dataframe for left\n",
    "                    right_x = X2[best_neg_side]\n",
    "                    right_label = label2[best_neg_side]                    \n",
    "                    next_free += 1\n",
    "                      \n",
    "                    tree[to_split[i][2]][4] = next_free      \n",
    "                    #for circle and triangle\n",
    "                    #tmp_split = [tmp_split, [right_x, right_label, next_free]]                                        \n",
    "                    tmp_split.append([right_x, right_label, next_free])            \n",
    "            \n",
    "            # for storing weights and +1 for bias\n",
    "            tree[to_split[i][2]][:len(X[0])+1] = best_theta.T\n",
    "\n",
    "        # ploting graph\n",
    "        # for individual split\n",
    "        #dviz.viz_data_with_line_np(best_theta, to_split[i])\n",
    "        \n",
    "        # for multiple split at once\n",
    "        #dviz.viz_data_with_line_np(best_theta, to_split[i])\n",
    "    to_split = tmp_split        \n"
   ]
  },
  {
   "cell_type": "code",
   "execution_count": 32,
   "metadata": {},
   "outputs": [
    {
     "data": {
      "text/plain": [
       "array([[ 0.1081125 , -0.14414999,  0.86489996,  0.46848748, -2.81452863,\n",
       "         0.        ,  0.        ],\n",
       "       [ 0.        ,  0.        ,  0.        ,  0.        ,  0.        ,\n",
       "         0.        ,  0.        ],\n",
       "       [ 0.        ,  0.        ,  0.        ,  0.        ,  0.        ,\n",
       "         0.        ,  0.        ],\n",
       "       [ 0.        ,  0.        ,  0.        ,  0.        ,  0.        ,\n",
       "         0.        ,  0.        ],\n",
       "       [ 0.        ,  0.        ,  0.        ,  0.        ,  0.        ,\n",
       "         0.        ,  0.        ],\n",
       "       [ 0.        ,  0.        ,  0.        ,  0.        ,  0.        ,\n",
       "         0.        ,  0.        ],\n",
       "       [ 0.        ,  0.        ,  0.        ,  0.        ,  0.        ,\n",
       "         0.        ,  0.        ],\n",
       "       [ 0.        ,  0.        ,  0.        ,  0.        ,  0.        ,\n",
       "         0.        ,  0.        ],\n",
       "       [ 0.        ,  0.        ,  0.        ,  0.        ,  0.        ,\n",
       "         0.        ,  0.        ],\n",
       "       [ 0.        ,  0.        ,  0.        ,  0.        ,  0.        ,\n",
       "         0.        ,  0.        ],\n",
       "       [ 0.        ,  0.        ,  0.        ,  0.        ,  0.        ,\n",
       "         0.        ,  0.        ],\n",
       "       [ 0.        ,  0.        ,  0.        ,  0.        ,  0.        ,\n",
       "         0.        ,  0.        ],\n",
       "       [ 0.        ,  0.        ,  0.        ,  0.        ,  0.        ,\n",
       "         0.        ,  0.        ],\n",
       "       [ 0.        ,  0.        ,  0.        ,  0.        ,  0.        ,\n",
       "         0.        ,  0.        ],\n",
       "       [ 0.        ,  0.        ,  0.        ,  0.        ,  0.        ,\n",
       "         0.        ,  0.        ],\n",
       "       [ 0.        ,  0.        ,  0.        ,  0.        ,  0.        ,\n",
       "         0.        ,  0.        ]])"
      ]
     },
     "execution_count": 32,
     "metadata": {},
     "output_type": "execute_result"
    }
   ],
   "source": [
    "tree"
   ]
  },
  {
   "cell_type": "code",
   "execution_count": 33,
   "metadata": {},
   "outputs": [
    {
     "name": "stdout",
     "output_type": "stream",
     "text": [
      "1\n",
      "              precision    recall  f1-score   support\n",
      "\n",
      "           0       1.00      1.00      1.00        50\n",
      "           1       1.00      1.00      1.00        50\n",
      "\n",
      "    accuracy                           1.00       100\n",
      "   macro avg       1.00      1.00      1.00       100\n",
      "weighted avg       1.00      1.00      1.00       100\n",
      "\n",
      "1.0\n",
      "[[50  0]\n",
      " [ 0 50]]\n"
     ]
    }
   ],
   "source": [
    "# on training \n",
    "print(pred.predict(tree, X[7]))\n",
    "\n",
    "y_pred = pred.predict(tree, X)\n",
    "print(classification_report(label, y_pred, labels=[0, 1]))\n",
    "print(accuracy_score(label, y_pred))\n",
    "print(confusion_matrix(label, y_pred))"
   ]
  },
  {
   "cell_type": "code",
   "execution_count": 26,
   "metadata": {},
   "outputs": [
    {
     "ename": "NameError",
     "evalue": "name 'X_ts_arr' is not defined",
     "output_type": "error",
     "traceback": [
      "\u001b[1;31m---------------------------------------------------------------------------\u001b[0m",
      "\u001b[1;31mNameError\u001b[0m                                 Traceback (most recent call last)",
      "\u001b[1;32m<ipython-input-26-34ca725a4082>\u001b[0m in \u001b[0;36m<module>\u001b[1;34m()\u001b[0m\n\u001b[0;32m      1\u001b[0m \u001b[1;31m# on testing\u001b[0m\u001b[1;33m\u001b[0m\u001b[1;33m\u001b[0m\u001b[0m\n\u001b[1;32m----> 2\u001b[1;33m \u001b[0my_pred\u001b[0m \u001b[1;33m=\u001b[0m \u001b[0mpred\u001b[0m\u001b[1;33m.\u001b[0m\u001b[0mpredict\u001b[0m\u001b[1;33m(\u001b[0m\u001b[0mtree\u001b[0m\u001b[1;33m,\u001b[0m \u001b[0mX_ts_arr\u001b[0m\u001b[1;33m.\u001b[0m\u001b[0mvalues\u001b[0m\u001b[1;33m)\u001b[0m\u001b[1;33m\u001b[0m\u001b[0m\n\u001b[0m\u001b[0;32m      3\u001b[0m \u001b[0mprint\u001b[0m\u001b[1;33m(\u001b[0m\u001b[0mclassification_report\u001b[0m\u001b[1;33m(\u001b[0m\u001b[0my_ts_arr\u001b[0m\u001b[1;33m,\u001b[0m \u001b[0my_pred\u001b[0m\u001b[1;33m,\u001b[0m \u001b[0mlabels\u001b[0m\u001b[1;33m=\u001b[0m\u001b[1;33m[\u001b[0m\u001b[1;36m0\u001b[0m\u001b[1;33m,\u001b[0m \u001b[1;36m1\u001b[0m\u001b[1;33m]\u001b[0m\u001b[1;33m)\u001b[0m\u001b[1;33m)\u001b[0m\u001b[1;33m\u001b[0m\u001b[0m\n\u001b[0;32m      4\u001b[0m \u001b[0mprint\u001b[0m\u001b[1;33m(\u001b[0m\u001b[0maccuracy_score\u001b[0m\u001b[1;33m(\u001b[0m\u001b[0my_ts_arr\u001b[0m\u001b[1;33m,\u001b[0m \u001b[0my_pred\u001b[0m\u001b[1;33m)\u001b[0m\u001b[1;33m)\u001b[0m\u001b[1;33m\u001b[0m\u001b[0m\n\u001b[0;32m      5\u001b[0m \u001b[0mprint\u001b[0m\u001b[1;33m(\u001b[0m\u001b[0mconfusion_matrix\u001b[0m\u001b[1;33m(\u001b[0m\u001b[0my_ts_arr\u001b[0m\u001b[1;33m,\u001b[0m \u001b[0my_pred\u001b[0m\u001b[1;33m)\u001b[0m\u001b[1;33m)\u001b[0m\u001b[1;33m\u001b[0m\u001b[0m\n",
      "\u001b[1;31mNameError\u001b[0m: name 'X_ts_arr' is not defined"
     ]
    }
   ],
   "source": [
    "# on testing\n",
    "y_pred = pred.predict(tree, X_ts_arr.values)\n",
    "print(classification_report(y_ts_arr, y_pred, labels=[0, 1]))\n",
    "print(accuracy_score(y_ts_arr, y_pred))\n",
    "print(confusion_matrix(y_ts_arr, y_pred))"
   ]
  },
  {
   "cell_type": "code",
   "execution_count": 78,
   "metadata": {},
   "outputs": [],
   "source": [
    "#dviz.scatter_plot(to_split)"
   ]
  },
  {
   "cell_type": "code",
   "execution_count": 15,
   "metadata": {},
   "outputs": [
    {
     "data": {
      "text/plain": [
       "array([6.4, 3.2, 4.5, 1.5])"
      ]
     },
     "execution_count": 15,
     "metadata": {},
     "output_type": "execute_result"
    }
   ],
   "source": [
    "multiple feature look working lets see how to it works with other binary larger dataset \n"
   ]
  },
  {
   "cell_type": "code",
   "execution_count": null,
   "metadata": {},
   "outputs": [],
   "source": [
    "how to prepare for tree structure \n",
    "if l1 >= something or if l1:\n",
    "    left: pure set of 0 label\n",
    "    right: if l2 or l2 >= something\n",
    "        left: l3\n",
    "            left: 0\n",
    "            right: 1\n",
    "        right:\n",
    "            left: l4\n",
    "                left/right:0\n",
    "            right: 0\n",
    "                \n",
    "\n",
    "this can be done by analyzing each line creation; use visuals\n",
    "then prepare for tree before computing or find way to build from tree object\n"
   ]
  }
 ],
 "metadata": {
  "kernelspec": {
   "display_name": "Python 3",
   "language": "python",
   "name": "python3"
  },
  "language_info": {
   "codemirror_mode": {
    "name": "ipython",
    "version": 3
   },
   "file_extension": ".py",
   "mimetype": "text/x-python",
   "name": "python",
   "nbconvert_exporter": "python",
   "pygments_lexer": "ipython3",
   "version": "3.7.3"
  },
  "pycharm": {
   "stem_cell": {
    "cell_type": "raw",
    "metadata": {
     "collapsed": false
    },
    "source": []
   }
  }
 },
 "nbformat": 4,
 "nbformat_minor": 4
}
