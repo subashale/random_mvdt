{
 "cells": [
  {
   "cell_type": "code",
   "execution_count": 1,
   "metadata": {},
   "outputs": [],
   "source": [
    "# an approach of combining logistic regression with decision tree\n",
    "# use logit function to get random or best coefficient of each feature then split\n",
    "# then measure split goodness with entropy/impurity\n",
    "# build tree on best split, take split dataset and repeat the process again\n",
    "# till some criteria meets, like max depth or minimum point for split"
   ]
  },
  {
   "cell_type": "code",
   "execution_count": 11,
   "metadata": {},
   "outputs": [],
   "source": [
    "from IPython.core.interactiveshell import InteractiveShell\n",
    "InteractiveShell.ast_node_interactivity = \"all\"\n",
    "\n",
    "import pandas as pd\n",
    "import numpy as np\n",
    "from sklearn.linear_model import LogisticRegression\n",
    "from sklearn.model_selection import train_test_split\n",
    "from sklearn.preprocessing import StandardScaler\n",
    "import data_viz as dviz\n",
    "import matplotlib.pyplot as plt\n",
    "from sklearn.metrics import confusion_matrix, accuracy_score"
   ]
  },
  {
   "cell_type": "code",
   "execution_count": 12,
   "metadata": {},
   "outputs": [],
   "source": [
    "# read data as dataframe\n",
    "#data = \"data/linear.csv\"\n",
    "data =\"data/weight-height.csv\"\n",
    "#data = \"data/3rd.csv\"\n",
    "df = pd.read_csv(data)\n",
    "#df.variety.value_counts()\n",
    "\n",
    "#next for iris only\n",
    "# for iris only taking two class droping other\n",
    "# df = df[df['variety'] != 'Setosa']\n",
    "# #label encoding\n",
    "# df['variety'].replace([\"Virginica\",\"Versicolor\"], [1,0], inplace=True)"
   ]
  },
  {
   "cell_type": "code",
   "execution_count": 13,
   "metadata": {},
   "outputs": [],
   "source": [
    "inp_df = df.drop(df.columns[-1], axis=1)\n",
    "out_df = df.drop(df.columns[:-1], axis=1)\n",
    "# scaler = StandardScaler()\n",
    "# inp_df = scaler.fit_transform(inp_df)\n",
    "#\n",
    "X_train, X_test, y_train, y_test = train_test_split(inp_df, out_df, test_size=0.2, random_state=0)\n",
    "\n",
    "X_tr_arr = X_train\n",
    "X_ts_arr = X_test\n",
    "# df to np_array\n",
    "y_tr_arr = y_train.values.ravel()\n",
    "y_ts_arr = y_test.values.ravel()\n"
   ]
  },
  {
   "cell_type": "code",
   "execution_count": 15,
   "metadata": {},
   "outputs": [],
   "source": [
    "# x_tr = pd.DataFrame(X_train, columns=['x1','x2'])\n",
    "x = pd.concat([X_train, y_train], axis=1)"
   ]
  },
  {
   "cell_type": "code",
   "execution_count": 17,
   "metadata": {},
   "outputs": [
    {
     "data": {
      "image/png": "[encoded data removed]",
      "text/plain": [
       "<Figure size 360x360 with 1 Axes>"
      ]
     },
     "metadata": {},
     "output_type": "display_data"
    }
   ],
   "source": [
    "dviz.DDScatterDFSns(0, 1, x)"
   ]
  },
  {
   "cell_type": "code",
   "execution_count": 779,
   "metadata": {},
   "outputs": [
    {
     "data": {
      "text/plain": [
       "<seaborn.axisgrid.FacetGrid at 0x2046c5b3f60>"
      ]
     },
     "execution_count": 779,
     "metadata": {},
     "output_type": "execute_result"
    },
    {
     "data": {
      "text/plain": [
       "<matplotlib.legend.Legend at 0x2046c5a16a0>"
      ]
     },
     "execution_count": 779,
     "metadata": {},
     "output_type": "execute_result"
    },
    {
     "data": {
      "image/png": "[encoded data removed]",
      "text/plain": [
       "<Figure size 360x360 with 1 Axes>"
      ]
     },
     "metadata": {},
     "output_type": "display_data"
    }
   ],
   "source": [
    "import seaborn as sns\n",
    "# assume last column is dependable variable\n",
    "sns.lmplot(x=[key for key in x.columns[[1]]][0], y=[key for key in x.columns[[1]]][0], \n",
    "           data=x, fit_reg=False, hue=[key for key in x.columns[[-1]]][0], legend=False)\n",
    "\n",
    "# Move the legend to an empty part of the plot\n",
    "plt.legend(loc='lower right')\n",
    "\n",
    "plt.show()"
   ]
  },
  {
   "cell_type": "code",
   "execution_count": 780,
   "metadata": {},
   "outputs": [
    {
     "data": {
      "text/plain": [
       "LogisticRegression(C=1.0, class_weight=None, dual=False, fit_intercept=True,\n",
       "          intercept_scaling=1, max_iter=100, multi_class='ovr', n_jobs=1,\n",
       "          penalty='l2', random_state=None, solver='liblinear', tol=0.0001,\n",
       "          verbose=0, warm_start=False)"
      ]
     },
     "execution_count": 780,
     "metadata": {},
     "output_type": "execute_result"
    }
   ],
   "source": [
    "clf = LogisticRegression()\n",
    "clf.fit(X_tr_arr, y_tr_arr)"
   ]
  },
  {
   "cell_type": "code",
   "execution_count": 781,
   "metadata": {},
   "outputs": [
    {
     "data": {
      "text/plain": [
       "0.9225"
      ]
     },
     "execution_count": 781,
     "metadata": {},
     "output_type": "execute_result"
    },
    {
     "data": {
      "text/plain": [
       "array([[3656,  332],\n",
       "       [ 321, 3691]], dtype=int64)"
      ]
     },
     "execution_count": 781,
     "metadata": {},
     "output_type": "execute_result"
    },
    {
     "data": {
      "text/plain": [
       "0.918375"
      ]
     },
     "execution_count": 781,
     "metadata": {},
     "output_type": "execute_result"
    }
   ],
   "source": [
    "pred = clf.predict(X_tr_arr)\n",
    "clf.score(X_ts_arr, y_ts_arr)\n",
    "confusion_matrix(y_tr_arr, pred)\n",
    "accuracy_score(y_tr_arr, pred)"
   ]
  },
  {
   "cell_type": "code",
   "execution_count": 713,
   "metadata": {},
   "outputs": [
    {
     "data": {
      "text/plain": [
       "array([ 0.00930987,  0.00858165, -1.45677389])"
      ]
     },
     "execution_count": 713,
     "metadata": {},
     "output_type": "execute_result"
    }
   ],
   "source": [
    "theta = np.append(clf.coef_, clf.intercept_)\n",
    "theta\n",
    "ones = np.ones(len(X_tr_arr))\n",
    "ones = ones.reshape(1, -1)\n",
    "with_one_combine = np.concatenate((X_tr_arr, ones.T), axis=1)\n",
    "\n",
    "#htheta(x) = x.theta or theta.T.X np.dot() is handling shape, is already in shape\n",
    "#https://towardsdatascience.com/understanding-logistic-regression-step-by-step-704a78be7e0a\n",
    "direction = with_one_combine.dot(theta)"
   ]
  },
  {
   "cell_type": "code",
   "execution_count": 673,
   "metadata": {},
   "outputs": [
    {
     "data": {
      "text/plain": [
       "0"
      ]
     },
     "execution_count": 673,
     "metadata": {},
     "output_type": "execute_result"
    },
    {
     "data": {
      "text/plain": [
       "800"
      ]
     },
     "execution_count": 673,
     "metadata": {},
     "output_type": "execute_result"
    }
   ],
   "source": [
    "left_side = np.where(direction >= 0)\n",
    "right_side = np.where(direction < 0)\n",
    "len(left_side[0])\n",
    "len(right_side[0])"
   ]
  },
  {
   "cell_type": "code",
   "execution_count": 720,
   "metadata": {},
   "outputs": [
    {
     "data": {
      "text/plain": [
       "array([ 4.10248507, -8.72778782])"
      ]
     },
     "execution_count": 720,
     "metadata": {},
     "output_type": "execute_result"
    }
   ],
   "source": [
    "X_tr_arr.values[0]"
   ]
  },
  {
   "cell_type": "code",
   "execution_count": 724,
   "metadata": {},
   "outputs": [
    {
     "data": {
      "text/plain": [
       "array([-1.51415032])"
      ]
     },
     "execution_count": 724,
     "metadata": {},
     "output_type": "execute_result"
    }
   ],
   "source": [
    "np.dot(X_tr_arr.values[1], clf.coef_.T)+clf.intercept_"
   ]
  },
  {
   "cell_type": "code",
   "execution_count": 644,
   "metadata": {},
   "outputs": [
    {
     "data": {
      "text/plain": [
       "-1.4097784041431036"
      ]
     },
     "execution_count": 644,
     "metadata": {},
     "output_type": "execute_result"
    }
   ],
   "source": [
    "direction[0]"
   ]
  },
  {
   "cell_type": "code",
   "execution_count": 649,
   "metadata": {},
   "outputs": [
    {
     "name": "stderr",
     "output_type": "stream",
     "text": [
      "c:\\users\\subash\\anaconda3\\lib\\site-packages\\ipykernel_launcher.py:1: RuntimeWarning: invalid value encountered in log\n",
      "  \"\"\"Entry point for launching an IPython kernel.\n"
     ]
    },
    {
     "data": {
      "text/plain": [
       "nan"
      ]
     },
     "execution_count": 649,
     "metadata": {},
     "output_type": "execute_result"
    }
   ],
   "source": [
    "-(np.log(-23))"
   ]
  },
  {
   "cell_type": "code",
   "execution_count": null,
   "metadata": {},
   "outputs": [],
   "source": [
    "# check two class in each direction pos, neg\n"
   ]
  },
  {
   "cell_type": "code",
   "execution_count": 300,
   "metadata": {},
   "outputs": [
    {
     "data": {
      "text/plain": [
       "3"
      ]
     },
     "execution_count": 300,
     "metadata": {},
     "output_type": "execute_result"
    }
   ],
   "source": [
    "len(np.where(y_tr_arr[neg_side]== 1)[0])\n"
   ]
  },
  {
   "cell_type": "code",
   "execution_count": null,
   "metadata": {},
   "outputs": [],
   "source": [
    "now save each split unpure subset again"
   ]
  },
  {
   "cell_type": "code",
   "execution_count": null,
   "metadata": {},
   "outputs": [],
   "source": []
  },
  {
   "cell_type": "code",
   "execution_count": 243,
   "metadata": {},
   "outputs": [
    {
     "data": {
      "text/plain": [
       "array([-0.832144, -6.937963])"
      ]
     },
     "execution_count": 243,
     "metadata": {},
     "output_type": "execute_result"
    }
   ],
   "source": [
    "inp_df.values[129]"
   ]
  },
  {
   "cell_type": "code",
   "execution_count": null,
   "metadata": {},
   "outputs": [],
   "source": []
  },
  {
   "cell_type": "code",
   "execution_count": null,
   "metadata": {},
   "outputs": [],
   "source": []
  },
  {
   "cell_type": "code",
   "execution_count": null,
   "metadata": {},
   "outputs": [],
   "source": [
    "clf = logit(random_state=0, solver='lbfgs', multi_class='multinomial').fit(X, y)"
   ]
  },
  {
   "cell_type": "code",
   "execution_count": null,
   "metadata": {},
   "outputs": [],
   "source": []
  },
  {
   "cell_type": "code",
   "execution_count": null,
   "metadata": {},
   "outputs": [],
   "source": [
    "# parameters\n",
    "epochs = 1000\n",
    "tree_depth = 4\n",
    "min_pts = 5\n"
   ]
  },
  {
   "cell_type": "code",
   "execution_count": null,
   "metadata": {},
   "outputs": [],
   "source": [
    "# split data in train and test\n",
    "X_train, y_train, X_test, y_test = tts(df, split=0.7)\n",
    "\n"
   ]
  },
  {
   "cell_type": "code",
   "execution_count": null,
   "metadata": {},
   "outputs": [],
   "source": [
    "# write a funciton to run \n",
    "def best_theta(dataset):\n",
    "    # initilize algo here because it has to fit in every node\n",
    "    logit_clf = logit()\n",
    "    \n",
    "    logit_clf.fit(X_train, y_train)\n",
    "    \n",
    "    return logit_clf.coef_, logit.intercept_"
   ]
  },
  {
   "cell_type": "code",
   "execution_count": null,
   "metadata": {},
   "outputs": [],
   "source": [
    "# with coefficent split dataset into two sub data and repeat this process again\n",
    "\n",
    "def measure_error(dataset):\n",
    "    # get theta\n",
    "    [theta] = best_theta(dataset)\n",
    "    \n",
    "    # find total entropy of given dataset\n",
    "    total_entropy = entropy()\n",
    "    # find check its error with ture value\n",
    "    pos_ent = entropy()\n",
    "    neg_ent = entropy()\n",
    "    \n",
    "    # information gain\n",
    "    gain = total_entropy - all entropy\n",
    "    \n",
    "    return gain, theta"
   ]
  },
  {
   "cell_type": "code",
   "execution_count": null,
   "metadata": {},
   "outputs": [],
   "source": [
    "# check for best gain and split the data\n",
    "there is no reason to find entropy because we already got best coeff and intercept from graident descent \n",
    "now we can diectly split data with that vlaues\n",
    "\n",
    "a bit hard or find a way of what? because there is no random point selection because there is no reason to check everytime\n",
    "or I hava to check in depth how it works. or There is random way of finding theta with in gradient descend \n",
    "\n",
    "call here split data build the tree repeat this process whole again until some criteria\n"
   ]
  }
 ],
 "metadata": {
  "kernelspec": {
   "display_name": "Python 3",
   "language": "python",
   "name": "python3"
  },
  "language_info": {
   "codemirror_mode": {
    "name": "ipython",
    "version": 3
   },
   "file_extension": ".py",
   "mimetype": "text/x-python",
   "name": "python",
   "nbconvert_exporter": "python",
   "pygments_lexer": "ipython3",
   "version": "3.7.3"
  },
  "pycharm": {
   "stem_cell": {
    "cell_type": "raw",
    "metadata": {
     "collapsed": false
    },
    "source": []
   }
  }
 },
 "nbformat": 4,
 "nbformat_minor": 4
}
