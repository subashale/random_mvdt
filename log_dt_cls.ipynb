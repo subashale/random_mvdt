{
 "cells": [
  {
   "cell_type": "code",
   "execution_count": 1,
   "metadata": {},
   "outputs": [],
   "source": [
    "#importing respective libraries and setting up the enviornment\n",
    "from IPython.core.interactiveshell import InteractiveShell\n",
    "InteractiveShell.ast_node_interactivity = \"all\"\n",
    "\n",
    "import pandas as pd\n",
    "import numpy as np\n",
    "\n",
    "from sklearn.linear_model import LogisticRegression\n",
    "from sklearn.metrics import classification_report, accuracy_score, confusion_matrix\n",
    "\n",
    "\n",
    "import matplotlib.pyplot as plt\n",
    "import seaborn as sns\n",
    "\n",
    "from log_dt_class import DecisionNode, Leaf\n",
    "from log_dt_helper import best_split, partition\n",
    "\n",
    "import data_viz as dviz"
   ]
  },
  {
   "cell_type": "code",
   "execution_count": 12,
   "metadata": {},
   "outputs": [],
   "source": [
    "#loading the data\n",
    "data =\"data/weight-height.csv\"\n",
    "#data = \"data/circle.csv\"\n",
    "\n",
    "#data = \"data/triangle.csv\"\n",
    "#data = \"data/linear.csv\"\n",
    "#data = \"data/024f2liris.csv\"\n",
    "#data = \"data/3rd.csv\"\n",
    "df = pd.read_csv(data)\n",
    "\n",
    "x = np.array(df[df.columns[:-1]].values.tolist(), dtype=np.float64)\n",
    "y = np.array(df[df.columns[-1]].values.tolist())\n",
    "data=np.c_[x,y]"
   ]
  },
  {
   "cell_type": "code",
   "execution_count": 13,
   "metadata": {},
   "outputs": [
    {
     "data": {
      "image/png": "[encoded data removed]",
      "text/plain": [
       "<Figure size 360x360 with 1 Axes>"
      ]
     },
     "metadata": {
      "needs_background": "light"
     },
     "output_type": "display_data"
    }
   ],
   "source": [
    "dviz.DDScatterDFSns(0, 1, df)"
   ]
  },
  {
   "cell_type": "code",
   "execution_count": 14,
   "metadata": {},
   "outputs": [],
   "source": [
    "clf = LogisticRegression(solver='lbfgs')\n",
    "depth = 4"
   ]
  },
  {
   "cell_type": "code",
   "execution_count": 15,
   "metadata": {},
   "outputs": [],
   "source": [
    "def print_tree(node,indentation=\"\"):\n",
    "    '''printing function'''\n",
    "    #base case means we have reached the leaf\n",
    "    #if the node object is of leaf type\n",
    "    if isinstance(node,Leaf):\n",
    "        print(indentation+\"PREDICTION\"+str(node.question)+\">= 0\")\n",
    "        return \n",
    "    #print the question at node\n",
    "    print(indentation + str(node.question)+\">= 0\")\n",
    "    \n",
    "    #call the function on true branch \n",
    "    print(indentation+ \"Left Branch\")\n",
    "    print_tree(node.true_branch,indentation + \"-->\")\n",
    "    \n",
    "    #on flase branch\n",
    "    print(indentation+ \"Right Branch\")\n",
    "    print_tree(node.false_branch,indentation + \"-->\")"
   ]
  },
  {
   "cell_type": "code",
   "execution_count": 16,
   "metadata": {},
   "outputs": [],
   "source": [
    "def build_tree(rows, max_depth, depth):\n",
    "    #takes the whole dataset as argument\n",
    "    #gets the best gain and best question    \n",
    "    \n",
    "    model, theta, pred = best_split(rows, clf)        \n",
    "    #dviz.viz_data_with_line_np(theta, rows)\n",
    "    \n",
    "    \n",
    "    if len(rows[-1]) < 15:\n",
    "        return Leaf(theta, rows)\n",
    "                \n",
    "    if depth >= max_depth:\n",
    "        #return Leaf(rows[-1])\n",
    "        return Leaf(theta, rows)\n",
    "    \n",
    "    pos_idx = np.where(y[rows[-1]] == 1)\n",
    "    neg_idx = np.where(y[rows[-1]] == 0)\n",
    "    \n",
    "    if len(pos_idx[0]) < 20 and len(neg_idx[0]) < 20:        \n",
    "        return Leaf(theta, rows)        \n",
    "    \n",
    "    #dviz.viz_data_np(rows)\n",
    "    # If we reach here, we have found a useful feature / value\n",
    "    # to partition on.                \n",
    "    \n",
    "    true_rows, false_rows = partition([x, y], pred)\n",
    "    \n",
    "    #print(len(true_rows[0]))    \n",
    "    #print(\"true {}, false_rows {}\".format(len(true_rows[-1]), len(false_rows[-1])))\n",
    "    # Recursively build the true branch.\n",
    "    tunique, tcounts = np.unique(true_rows[-1], return_counts=True)\n",
    "    funique, fcounts = np.unique(false_rows[-1], return_counts=True)\n",
    "    \n",
    "    if len(tcounts) == 1 or len(fcounts) == 1:\n",
    "        #make a leaf object and return\n",
    "        return Leaf(theta, rows)\n",
    "    \n",
    "    \"\"\" Check minimun points here not in the above, \n",
    "        check on each split part for both classes it is less than 20 do not split further\n",
    "        \n",
    "    \"\"\"\n",
    "    if len(true_rows[-1]) > 20 and len(false_rows[-1]) > 20:\n",
    "    #if tcounts[0] > 20 and tcounts[1] > 20 or fcounts[0] > 20 and fcounts[1] > 20:\n",
    "        \n",
    "        true_branch = build_tree(true_rows, max_depth, depth+1)            \n",
    "        false_branch = build_tree(false_rows, max_depth, depth+1)\n",
    "        \n",
    "        return DecisionNode(theta, true_branch, false_branch, rows)\n",
    "\n",
    "    else: \n",
    "        return Leaf(theta, rows)"
   ]
  },
  {
   "cell_type": "code",
   "execution_count": 17,
   "metadata": {},
   "outputs": [],
   "source": [
    "tree=build_tree([x, y], depth, 1)"
   ]
  },
  {
   "cell_type": "code",
   "execution_count": 18,
   "metadata": {},
   "outputs": [
    {
     "name": "stdout",
     "output_type": "stream",
     "text": [
      "[-0.47828673  0.19680042 -0.0100464 ]>= 0\n",
      "Left Branch\n",
      "-->PREDICTION[-0.44679782  0.184948   -0.00939702]>= 0\n",
      "Right Branch\n",
      "-->PREDICTION[-0.41873056  0.17040684 -0.00872949]>= 0\n"
     ]
    }
   ],
   "source": [
    "print_tree(tree)"
   ]
  },
  {
   "cell_type": "code",
   "execution_count": 19,
   "metadata": {},
   "outputs": [],
   "source": [
    "def classify(x_point, node):\n",
    "    \"\"\"See the 'rules of recursion' above.\"\"\"\n",
    "    if isinstance(node, Leaf):\n",
    "        pt = np.append(x_point, 1).reshape(len(x_point) + 1, 1)\n",
    "        r = node.question.dot(pt)\n",
    "\n",
    "        if r >= 0:\n",
    "            r = 1\n",
    "        else:\n",
    "            r = 0\n",
    "        return r\n",
    "\n",
    "    pt = np.append(x_point, 1).reshape(len(x_point) + 1, 1)\n",
    "    r = node.question.dot(pt)\n",
    "\n",
    "    if r > 0:\n",
    "        return classify(x_point, node.true_branch)\n",
    "    else:\n",
    "        return classify(x_point, node.false_branch)\n",
    "\n",
    "def predict(x, tree):\n",
    "    yh_list = []\n",
    "    if len(x.shape) == 1:\n",
    "        return classify(x, tree)\n",
    "    else:\n",
    "        for i, value in enumerate(x):\n",
    "            yh = classify(value, tree)\n",
    "            yh_list.append(yh)\n",
    "        return yh_list"
   ]
  },
  {
   "cell_type": "code",
   "execution_count": 20,
   "metadata": {},
   "outputs": [
    {
     "name": "stdout",
     "output_type": "stream",
     "text": [
      "              precision    recall  f1-score   support\n",
      "\n",
      "           0       0.92      0.92      0.92      5000\n",
      "           1       0.92      0.92      0.92      5000\n",
      "\n",
      "    accuracy                           0.92     10000\n",
      "   macro avg       0.92      0.92      0.92     10000\n",
      "weighted avg       0.92      0.92      0.92     10000\n",
      "\n",
      "0.9195\n",
      "[[4591  409]\n",
      " [ 396 4604]]\n"
     ]
    }
   ],
   "source": [
    "y_pred = predict(x, tree)\n",
    "print(classification_report(y, y_pred, labels=[0, 1]))\n",
    "print(accuracy_score(y, y_pred))\n",
    "print(confusion_matrix(y, y_pred))\n"
   ]
  },
  {
   "cell_type": "code",
   "execution_count": null,
   "metadata": {},
   "outputs": [],
   "source": [
    "the problem is finding best feature to separate dat\n",
    "1.\n",
    "    \"\"\"One way is done to select all data and separate\"\"\"\n",
    "2. \"\"\"Now use any mechanism to select some feature and then separate data \"\"\"\n",
    "    a. Random selection\n",
    "    b. Use clustering \n",
    "    c. Find other metrix\n",
    "    \n",
    "    How do you optimize values for several hyperparameters of a classification model?\n",
    "    ==> Perform gridsearch on all hyperparameters."
   ]
  }
 ],
 "metadata": {
  "kernelspec": {
   "display_name": "Python 3",
   "language": "python",
   "name": "python3"
  },
  "language_info": {
   "codemirror_mode": {
    "name": "ipython",
    "version": 3
   },
   "file_extension": ".py",
   "mimetype": "text/x-python",
   "name": "python",
   "nbconvert_exporter": "python",
   "pygments_lexer": "ipython3",
   "version": "3.7.3"
  }
 },
 "nbformat": 4,
 "nbformat_minor": 4
}
