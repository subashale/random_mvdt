{
 "cells": [
  {
   "cell_type": "code",
   "execution_count": 1,
   "metadata": {},
   "outputs": [],
   "source": [
    "import pandas as pd\n",
    "import numpy as np\n",
    "import re\n",
    "# tree model reuse\n",
    "import json\n",
    "#from sklearn.tree import plot_tree\n",
    "import _pickle as pickle\n",
    "#from mvdts.dt_common.prediction import print_model, print_tree\n",
    "import os"
   ]
  },
  {
   "cell_type": "code",
   "execution_count": 2,
   "metadata": {},
   "outputs": [],
   "source": [
    "with open(\"results.json\") as json_file: \n",
    "    data = json.load(json_file)"
   ]
  },
  {
   "cell_type": "code",
   "execution_count": 3,
   "metadata": {},
   "outputs": [
    {
     "data": {
      "text/plain": [
       "72"
      ]
     },
     "execution_count": 3,
     "metadata": {},
     "output_type": "execute_result"
    }
   ],
   "source": [
    "len(data[\"results\"])"
   ]
  },
  {
   "cell_type": "code",
   "execution_count": 4,
   "metadata": {},
   "outputs": [
    {
     "data": {
      "text/plain": [
       "11"
      ]
     },
     "execution_count": 4,
     "metadata": {},
     "output_type": "execute_result"
    }
   ],
   "source": [
    "data[\"results\"][2][\"max_depth\"]"
   ]
  },
  {
   "cell_type": "code",
   "execution_count": 5,
   "metadata": {},
   "outputs": [
    {
     "data": {
      "text/plain": [
       "[{'on_depth': 1,\n",
       "  'accuracy': [0.7520325203252033, 0.7482233502538072],\n",
       "  'precision': [0.7504950495049505, 0.7455968688845401],\n",
       "  'recall': [0.7625754527162978, 0.7635270541082164],\n",
       "  'f1': [0.7564870259481038, 0.7544554455445545],\n",
       "  'confusion_matrix': [[[361, 126], [118, 379]], [[356, 130], [118, 381]]],\n",
       "  'max_depth': 1,\n",
       "  'inner_node': 2,\n",
       "  'leaf_node': 1,\n",
       "  'all_node': 3,\n",
       "  'branch_sizes': [1, 1]},\n",
       " {'on_depth': 2,\n",
       "  'accuracy': [0.7916666666666666, 0.7756345177664975],\n",
       "  'precision': [0.7713754646840149, 0.7662835249042146],\n",
       "  'recall': [0.8350100603621731, 0.8016032064128257],\n",
       "  'f1': [0.8019323671497585, 0.7835455435847208],\n",
       "  'confusion_matrix': [[[364, 123], [82, 415]], [[364, 122], [99, 400]]],\n",
       "  'max_depth': 2,\n",
       "  'inner_node': 5,\n",
       "  'leaf_node': 4,\n",
       "  'all_node': 9,\n",
       "  'branch_sizes': [2, 3]},\n",
       " {'on_depth': 3,\n",
       "  'accuracy': [0.8028455284552846, 0.7786802030456853],\n",
       "  'precision': [0.7896749521988528, 0.7749510763209393],\n",
       "  'recall': [0.8309859154929577, 0.7935871743486974],\n",
       "  'f1': [0.8098039215686276, 0.7841584158415841],\n",
       "  'confusion_matrix': [[[377, 110], [84, 413]], [[371, 115], [103, 396]]],\n",
       "  'max_depth': 3,\n",
       "  'inner_node': 8,\n",
       "  'leaf_node': 8,\n",
       "  'all_node': 16,\n",
       "  'branch_sizes': [2, 6]},\n",
       " {'on_depth': 4,\n",
       "  'accuracy': [0.801829268292683, 0.7695431472081218],\n",
       "  'precision': [0.7870722433460076, 0.7615384615384615],\n",
       "  'recall': [0.8329979879275654, 0.7935871743486974],\n",
       "  'f1': [0.8093841642228738, 0.7772325809617272],\n",
       "  'confusion_matrix': [[[375, 112], [83, 414]], [[362, 124], [103, 396]]],\n",
       "  'max_depth': 4,\n",
       "  'inner_node': 10,\n",
       "  'leaf_node': 10,\n",
       "  'all_node': 20,\n",
       "  'branch_sizes': [2, 8]},\n",
       " {'on_depth': 5,\n",
       "  'accuracy': [0.8109756097560976, 0.782741116751269],\n",
       "  'precision': [0.8007736943907157, 0.7844311377245509],\n",
       "  'recall': [0.8329979879275654, 0.7875751503006012],\n",
       "  'f1': [0.8165680473372782, 0.7859999999999999],\n",
       "  'confusion_matrix': [[[384, 103], [83, 414]], [[378, 108], [106, 393]]],\n",
       "  'max_depth': 5,\n",
       "  'inner_node': 12,\n",
       "  'leaf_node': 13,\n",
       "  'all_node': 25,\n",
       "  'branch_sizes': [2, 10]},\n",
       " {'on_depth': 6,\n",
       "  'accuracy': [0.8089430894308943, 0.7796954314720812],\n",
       "  'precision': [0.7909604519774012, 0.7722007722007722],\n",
       "  'recall': [0.8450704225352113, 0.8016032064128257],\n",
       "  'f1': [0.8171206225680935, 0.7866273352999016],\n",
       "  'confusion_matrix': [[[376, 111], [77, 420]], [[368, 118], [99, 400]]],\n",
       "  'max_depth': 6,\n",
       "  'inner_node': 13,\n",
       "  'leaf_node': 13,\n",
       "  'all_node': 26,\n",
       "  'branch_sizes': [2, 11]},\n",
       " {'on_depth': 7,\n",
       "  'accuracy': [0.8170731707317073, 0.783756345177665],\n",
       "  'precision': [0.8019047619047619, 0.7803921568627451],\n",
       "  'recall': [0.8470824949698189, 0.7975951903807615],\n",
       "  'f1': [0.8238747553816047, 0.7888999008919723],\n",
       "  'confusion_matrix': [[[383, 104], [76, 421]], [[374, 112], [101, 398]]],\n",
       "  'max_depth': 7,\n",
       "  'inner_node': 15,\n",
       "  'leaf_node': 16,\n",
       "  'all_node': 31,\n",
       "  'branch_sizes': [2, 13]},\n",
       " {'on_depth': 8,\n",
       "  'accuracy': [0.8150406504065041, 0.783756345177665],\n",
       "  'precision': [0.7988614800759013, 0.7803921568627451],\n",
       "  'recall': [0.8470824949698189, 0.7975951903807615],\n",
       "  'f1': [0.822265625, 0.7888999008919723],\n",
       "  'confusion_matrix': [[[381, 106], [76, 421]], [[374, 112], [101, 398]]],\n",
       "  'max_depth': 8,\n",
       "  'inner_node': 16,\n",
       "  'leaf_node': 17,\n",
       "  'all_node': 33,\n",
       "  'branch_sizes': [2, 14]},\n",
       " {'on_depth': 9,\n",
       "  'accuracy': [0.8140243902439024, 0.7756345177664975],\n",
       "  'precision': [0.7951127819548872, 0.7673076923076924],\n",
       "  'recall': [0.8511066398390342, 0.7995991983967936],\n",
       "  'f1': [0.8221574344023324, 0.7831207065750736],\n",
       "  'confusion_matrix': [[[378, 109], [74, 423]], [[365, 121], [100, 399]]],\n",
       "  'max_depth': 9,\n",
       "  'inner_node': 17,\n",
       "  'leaf_node': 18,\n",
       "  'all_node': 35,\n",
       "  'branch_sizes': [2, 15]},\n",
       " {'on_depth': 10,\n",
       "  'accuracy': [0.818089430894309, 0.7908629441624365],\n",
       "  'precision': [0.7933579335793358, 0.780114722753346],\n",
       "  'recall': [0.8651911468812877, 0.8176352705410822],\n",
       "  'f1': [0.8277189605389798, 0.7984344422700587],\n",
       "  'confusion_matrix': [[[375, 112], [67, 430]], [[371, 115], [91, 408]]],\n",
       "  'max_depth': 10,\n",
       "  'inner_node': 18,\n",
       "  'leaf_node': 19,\n",
       "  'all_node': 37,\n",
       "  'branch_sizes': [2, 16]},\n",
       " {'on_depth': 11,\n",
       "  'accuracy': [0.823170731707317, 0.7878172588832487],\n",
       "  'precision': [0.8018691588785046, 0.7799227799227799],\n",
       "  'recall': [0.8631790744466801, 0.8096192384769539],\n",
       "  'f1': [0.8313953488372093, 0.7944936086529006],\n",
       "  'confusion_matrix': [[[381, 106], [68, 429]], [[372, 114], [95, 404]]],\n",
       "  'max_depth': 11,\n",
       "  'inner_node': 19,\n",
       "  'leaf_node': 21,\n",
       "  'all_node': 40,\n",
       "  'branch_sizes': [2, 17]},\n",
       " None,\n",
       " None,\n",
       " None,\n",
       " None,\n",
       " None,\n",
       " None,\n",
       " None,\n",
       " None]"
      ]
     },
     "execution_count": 5,
     "metadata": {},
     "output_type": "execute_result"
    }
   ],
   "source": [
    "data[\"results\"][2][\"intermediate_result\"]"
   ]
  },
  {
   "cell_type": "code",
   "execution_count": null,
   "metadata": {},
   "outputs": [],
   "source": []
  }
 ],
 "metadata": {
  "kernelspec": {
   "display_name": "Python 3",
   "language": "python",
   "name": "python3"
  },
  "language_info": {
   "codemirror_mode": {
    "name": "ipython",
    "version": 3
   },
   "file_extension": ".py",
   "mimetype": "text/x-python",
   "name": "python",
   "nbconvert_exporter": "python",
   "pygments_lexer": "ipython3",
   "version": "3.7.3"
  }
 },
 "nbformat": 4,
 "nbformat_minor": 4
}
