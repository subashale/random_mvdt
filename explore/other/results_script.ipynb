{
 "cells": [
  {
   "cell_type": "code",
   "execution_count": 1,
   "metadata": {},
   "outputs": [],
   "source": [
    "import pandas as pd\n",
    "pd.set_option('display.max_columns', None)\n",
    "import numpy as np\n",
    "import json\n",
    "#from sklearn.tree import plot_tree\n",
    "import _pickle as pickle\n",
    "#from mvdts.dt_common.prediction import print_model, print_tree\n",
    "import os"
   ]
  },
  {
   "cell_type": "code",
   "execution_count": 4,
   "metadata": {},
   "outputs": [],
   "source": [
    "def tree_left_right_sizee(inner_nodes):\n",
    "    # getting all inner nodes from left and right branch\n",
    "    idx = []\n",
    "    print(inner_nodes)\n",
    "    for i, v in enumerate(inner_nodes):\n",
    "        # getting 1 1 initial depth\n",
    "        # if index 1 find out which branch is it left or right\n",
    "        # if first index is 1 then left else right\n",
    "        if v[1] == 1:\n",
    "            idx.append([i, v[2]])\n",
    "    print(idx)\n",
    "    # check root node has decision node then put 0 and count inner_nodes-1 for right side\n",
    "    # left skew [[1, 'l']], right skew [[1, 'r']]\n",
    "    if len(idx) == 1:\n",
    "        # pure left is skew\n",
    "        if idx[0][1] == 'l':\n",
    "            print(\"l: \", idx[0], idx[0][1])\n",
    "            left = len(inner_nodes)-1\n",
    "            right = 0\n",
    "        # pure right is skew\n",
    "        elif idx[0][1] == 'r':\n",
    "            print(\"r: \", idx[0], idx[0][1])\n",
    "            left = 0\n",
    "            right = len(inner_nodes) - 1\n",
    "        # nothing there\n",
    "        else:\n",
    "            left = 0\n",
    "            right = 0\n",
    "    elif len(idx) == 2:\n",
    "        # use second position depth to separate data, with ndarray\n",
    "        # eg [[1, 'l'], [9, 'r']]\n",
    "        print(\"2\", idx, len(idx))\n",
    "        left = len(inner_nodes[1:idx[1][0]])\n",
    "        right = len(inner_nodes[idx[1][0]:])\n",
    "    elif len(idx) == 0:\n",
    "        print(\"0\", idx, len(idx))\n",
    "        left = 0\n",
    "        right = 0\n",
    "    else:\n",
    "        left = 0\n",
    "        right = 0\n",
    "    return left, right, idx"
   ]
  },
  {
   "cell_type": "code",
   "execution_count": null,
   "metadata": {},
   "outputs": [],
   "source": []
  },
  {
   "cell_type": "code",
   "execution_count": null,
   "metadata": {
    "collapsed": true,
    "jupyter": {
     "outputs_hidden": true
    }
   },
   "outputs": [],
   "source": [
    "tree_balance_depth(loaded_model, 3, root_node=[], leaf_node=[])"
   ]
  },
  {
   "cell_type": "code",
   "execution_count": 428,
   "metadata": {},
   "outputs": [],
   "source": [
    "def tree_balance_depth_(node, depth, indentation=\"\", root_node=[], leaf_node=[]):\n",
    "    # if the node object is of leaf type\n",
    "    if isinstance(node, Leaf):\n",
    "        leaf_node.append(np.array([node.predictions]))        \n",
    "    else:\n",
    "        if depth >= int(node.depth):             \n",
    "            sum = np.add(np.array(node.true_purity), np.array(node.false_purity))\n",
    "            root_node.append([sum, node.depth])\n",
    "            print_model_depth(node.true_branch, depth, indentation + \"-->\", root_node, leaf_node)\n",
    "            print_model_depth(node.false_branch, depth, indentation + \"-->\", root_node, leaf_node)\n",
    "        return np.array(root_node), find_depth(root_node), leaf_node"
   ]
  },
  {
   "cell_type": "code",
   "execution_count": 433,
   "metadata": {},
   "outputs": [
    {
     "data": {
      "text/plain": [
       "array([[array([471, 478]), 0],\n",
       "       [array([115,  14]), 1],\n",
       "       [array([111,   6]), 2],\n",
       "       [array([356, 464]), 1],\n",
       "       [array([183, 118]), 2],\n",
       "       [array([134,  42]), 3],\n",
       "       [array([49, 76]), 3],\n",
       "       [array([173, 346]), 2],\n",
       "       [array([154, 223]), 3],\n",
       "       [array([ 19, 123]), 3]], dtype=object)"
      ]
     },
     "execution_count": 433,
     "metadata": {},
     "output_type": "execute_result"
    }
   ],
   "source": [
    "ins"
   ]
  },
  {
   "cell_type": "code",
   "execution_count": 655,
   "metadata": {},
   "outputs": [],
   "source": [
    "def count_lr_inner_node(inner_nodes, left=[], right=[]):\n",
    "# root node is not counted    \n",
    "    initial = 1\n",
    "    c = 0\n",
    "        \n",
    "    for i in inner_nodes[1:]:        \n",
    "        c += 1        \n",
    "        if c == i[1]:        \n",
    "            left.append(i)            \n",
    "            if initial == i[1]:\n",
    "                c = \n",
    "                right.append(i)                                 \n",
    "\n",
    "    return left, right"
   ]
  },
  {
   "cell_type": "code",
   "execution_count": null,
   "metadata": {},
   "outputs": [],
   "source": [
    "for i, v in enumerate(ins):        \n",
    "    if v[1] == 1:\n",
    "        print(i)"
   ]
  },
  {
   "cell_type": "code",
   "execution_count": 656,
   "metadata": {},
   "outputs": [
    {
     "ename": "SyntaxError",
     "evalue": "invalid syntax (<ipython-input-656-6ae9da63f8e5>, line 1)",
     "output_type": "error",
     "traceback": [
      "\u001b[1;36m  File \u001b[1;32m\"<ipython-input-656-6ae9da63f8e5>\"\u001b[1;36m, line \u001b[1;32m1\u001b[0m\n\u001b[1;33m    look continue increment or greater but if\u001b[0m\n\u001b[1;37m                ^\u001b[0m\n\u001b[1;31mSyntaxError\u001b[0m\u001b[1;31m:\u001b[0m invalid syntax\n"
     ]
    }
   ],
   "source": [
    "look continue increment or greater but if separation using 1 depth if only applicable for full tree\n",
    "get index of both 1  1 depth\n",
    "then count branch"
   ]
  },
  {
   "cell_type": "code",
   "execution_count": 895,
   "metadata": {},
   "outputs": [],
   "source": [
    "l = [1,2,3,4]"
   ]
  },
  {
   "cell_type": "code",
   "execution_count": 898,
   "metadata": {},
   "outputs": [
    {
     "data": {
      "text/plain": [
       "[2, 3, 4]"
      ]
     },
     "execution_count": 898,
     "metadata": {},
     "output_type": "execute_result"
    }
   ],
   "source": [
    "l[1:]"
   ]
  },
  {
   "cell_type": "code",
   "execution_count": 893,
   "metadata": {},
   "outputs": [],
   "source": [
    "def tree_left_right_size(ins):\n",
    "    idx = []\n",
    "    for i, v in enumerate(ins):    \n",
    "\n",
    "        if v[1] == 1:\n",
    "            idx.append(i)\n",
    "            \n",
    "    left = ins[1:][:idx[1]]\n",
    "    right = ins[idx[1]:]\n",
    "    return left, right"
   ]
  },
  {
   "cell_type": "code",
   "execution_count": 894,
   "metadata": {},
   "outputs": [
    {
     "name": "stdout",
     "output_type": "stream",
     "text": [
      "2 1\n"
     ]
    }
   ],
   "source": [
    "left, right = tree_left_right_size(ins)\n",
    "print(len(left), len(right))"
   ]
  },
  {
   "cell_type": "code",
   "execution_count": 842,
   "metadata": {},
   "outputs": [
    {
     "data": {
      "text/plain": [
       "28"
      ]
     },
     "execution_count": 842,
     "metadata": {},
     "output_type": "execute_result"
    }
   ],
   "source": [
    "len(ins)"
   ]
  },
  {
   "cell_type": "code",
   "execution_count": 709,
   "metadata": {
    "collapsed": true,
    "jupyter": {
     "outputs_hidden": true
    }
   },
   "outputs": [
    {
     "data": {
      "text/plain": [
       "array([[array([267, 306]), 1],\n",
       "       [array([165,  88]), 2],\n",
       "       [array([121,  48]), 3],\n",
       "       [array([105,  33]), 4],\n",
       "       [array([99, 25]), 5],\n",
       "       [array([39, 20]), 6],\n",
       "       [array([32, 10]), 7],\n",
       "       [array([17, 10]), 8],\n",
       "       [array([11,  9]), 9],\n",
       "       [array([ 7, 10]), 7],\n",
       "       [array([6, 8]), 5],\n",
       "       [array([16, 15]), 4],\n",
       "       [array([16, 11]), 5],\n",
       "       [array([44, 40]), 3],\n",
       "       [array([33,  7]), 4],\n",
       "       [array([11,  6]), 5],\n",
       "       [array([6, 6]), 6],\n",
       "       [array([11, 33]), 4],\n",
       "       [array([ 9, 10]), 5],\n",
       "       [array([ 7, 10]), 6],\n",
       "       [array([7, 6]), 7],\n",
       "       [array([102, 218]), 2],\n",
       "       [array([ 91, 213]), 3],\n",
       "       [array([15, 66]), 4],\n",
       "       [array([12, 63]), 5],\n",
       "       [array([10, 26]), 6],\n",
       "       [array([ 9, 12]), 7],\n",
       "       [array([ 76, 147]), 4],\n",
       "       [array([ 76, 123]), 5],\n",
       "       [array([64, 91]), 6],\n",
       "       [array([30, 12]), 7],\n",
       "       [array([34, 79]), 7],\n",
       "       [array([28, 48]), 8],\n",
       "       [array([22, 29]), 9],\n",
       "       [array([22, 25]), 10],\n",
       "       [array([ 6, 19]), 9],\n",
       "       [array([ 6, 31]), 8],\n",
       "       [array([ 6, 18]), 9],\n",
       "       [array([6, 6]), 10],\n",
       "       [array([12, 32]), 6],\n",
       "       [array([12, 25]), 7],\n",
       "       [array([ 6, 20]), 8],\n",
       "       [array([204, 172]), 1]], dtype=object)"
      ]
     },
     "execution_count": 709,
     "metadata": {},
     "output_type": "execute_result"
    }
   ],
   "source": [
    "204, 172, 267, 306\n",
    "left"
   ]
  },
  {
   "cell_type": "code",
   "execution_count": 657,
   "metadata": {},
   "outputs": [],
   "source": [
    "left_inner, right_inner = count_lr_inner_node(ins)"
   ]
  },
  {
   "cell_type": "code",
   "execution_count": 850,
   "metadata": {},
   "outputs": [
    {
     "data": {
      "text/plain": [
       "[array([{0: 46, 1: 259}], dtype=object),\n",
       " array([{1: 1}], dtype=object),\n",
       " array([{1: 3, 0: 4}], dtype=object),\n",
       " array([{0: 1, 1: 1}], dtype=object),\n",
       " array([{0: 21, 1: 10}], dtype=object),\n",
       " array([{0: 4, 1: 1}], dtype=object),\n",
       " array([{0: 3, 1: 6}], dtype=object),\n",
       " array([{0: 83, 1: 29}], dtype=object),\n",
       " array([{0: 4, 1: 1}], dtype=object),\n",
       " array([{1: 1, 0: 3}], dtype=object),\n",
       " array([{1: 7, 0: 4}], dtype=object),\n",
       " array([{0: 34, 1: 16}], dtype=object),\n",
       " array([{1: 4, 0: 3}], dtype=object),\n",
       " array([{0: 9, 1: 4}], dtype=object),\n",
       " array([{0: 6, 1: 15}], dtype=object),\n",
       " array([{0: 3, 1: 1}], dtype=object),\n",
       " array([{0: 4, 1: 1}], dtype=object),\n",
       " array([{1: 5, 0: 5}], dtype=object),\n",
       " array([{1: 6, 0: 2}], dtype=object),\n",
       " array([{0: 5}], dtype=object),\n",
       " array([{0: 4, 1: 7}], dtype=object),\n",
       " array([{0: 2, 1: 3}], dtype=object),\n",
       " array([{0: 17, 1: 5}], dtype=object),\n",
       " array([{1: 7, 0: 2}], dtype=object),\n",
       " array([{0: 7, 1: 1}], dtype=object),\n",
       " array([{1: 20, 0: 5}], dtype=object),\n",
       " array([{1: 1, 0: 1}], dtype=object),\n",
       " array([{0: 14, 1: 3}], dtype=object),\n",
       " array([{1: 79, 0: 191}], dtype=object)]"
      ]
     },
     "execution_count": 850,
     "metadata": {},
     "output_type": "execute_result"
    }
   ],
   "source": [
    "lds"
   ]
  },
  {
   "cell_type": "code",
   "execution_count": 891,
   "metadata": {},
   "outputs": [
    {
     "name": "stdout",
     "output_type": "stream",
     "text": [
      "depth: 0 entropy: 0.9991386123705139\n",
      "Left Branch [468, 41]\n",
      "-->depth: 1 entropy: 0.0796186595955485\n",
      "-->Left Branch [467, 37]\n",
      "-->-->Predict {0: 37, 1: 467}\n",
      "-->Right Branch [1, 4]\n",
      "-->-->Predict {0: 4, 1: 1}\n",
      "Right Branch [29, 446]\n",
      "-->depth: 1 entropy: 0.021753598001942133\n",
      "-->Left Branch [1, 0]\n",
      "-->-->Predict {1: 1}\n",
      "-->Right Branch [28, 446]\n",
      "-->-->Predict {0: 446, 1: 28}\n"
     ]
    }
   ],
   "source": [
    "ins, md, lds = print_model_depth(loaded_model, depth=15, root_node=[], leaf_node=[])"
   ]
  },
  {
   "cell_type": "code",
   "execution_count": 892,
   "metadata": {},
   "outputs": [
    {
     "name": "stdout",
     "output_type": "stream",
     "text": [
      "-->depth: 1 entropy: 0.0796186595955485\n",
      "-->Left Branch [467, 37]\n",
      "-->-->Predict {0: 37, 1: 467}\n",
      "-->Right Branch [1, 4]\n",
      "-->-->Predict {0: 4, 1: 1}\n",
      "-->depth: 1 entropy: 0.021753598001942133\n",
      "-->Left Branch [1, 0]\n",
      "-->-->Predict {1: 1}\n",
      "-->Right Branch [28, 446]\n",
      "-->-->Predict {0: 446, 1: 28}\n"
     ]
    }
   ],
   "source": [
    "ins, md, lds = tree_balance_depth_(loaded_model, 3, root_node=[], leaf_node=[])"
   ]
  },
  {
   "cell_type": "code",
   "execution_count": 301,
   "metadata": {},
   "outputs": [],
   "source": [
    "def print_model_depth(node, depth, indentation=\"\", root_node=[], leaf_node=[]):\n",
    "    # if the node object is of leaf type\n",
    "    if isinstance(node, Leaf):\n",
    "        leaf_node.append(np.array([node.predictions]))\n",
    "        print(indentation + \"Predict\", node.predictions)\n",
    "\n",
    "    else:\n",
    "        if depth >= int(node.depth): \n",
    "            sum = np.add(np.array(node.true_purity), np.array(node.false_purity))\n",
    "\n",
    "            root_node.append([sum, node.depth])\n",
    "            # showing depth, theta and entropy for each inner nodes\n",
    "            print(indentation + \"depth: \" + str(node.depth)+\" entropy: \"+str(node.entropy))\n",
    "\n",
    "            # call the function on true branch\n",
    "            print(indentation + \"Left Branch \" + str(node.true_purity))\n",
    "            print_model_depth(node.true_branch, depth, indentation + \"-->\", root_node, leaf_node)\n",
    "\n",
    "            # on false branch\n",
    "            print(indentation + \"Right Branch \" + str(node.false_purity))\n",
    "            print_model_depth(node.false_branch, depth, indentation + \"-->\", root_node, leaf_node)\n",
    "        return np.array(root_node), find_depth(root_node), leaf_node"
   ]
  },
  {
   "cell_type": "code",
   "execution_count": 359,
   "metadata": {},
   "outputs": [
    {
     "name": "stdout",
     "output_type": "stream",
     "text": [
      "depth: 0 entropy: 0.9998743474242437\n",
      "Left Branch [313, 186]\n",
      "-->depth: 1 entropy: 0.3199212282946764\n",
      "-->Left Branch [303, 167]\n",
      "-->-->depth: 2 entropy: 0.7467366074830679\n",
      "-->-->Left Branch [269, 101]\n",
      "-->-->Right Branch [34, 66]\n",
      "-->Right Branch [10, 19]\n",
      "-->-->depth: 2 entropy: 0.21639693245126462\n",
      "-->-->Left Branch [0, 1]\n",
      "-->-->-->Predict {0: 1}\n",
      "-->-->Right Branch [10, 18]\n",
      "Right Branch [186, 300]\n",
      "-->depth: 1 entropy: 0.471599169174903\n",
      "-->Left Branch [31, 18]\n",
      "-->-->depth: 2 entropy: 0.7682814090975242\n",
      "-->-->Left Branch [28, 10]\n",
      "-->-->Right Branch [3, 8]\n",
      "-->-->-->Predict {0: 8, 1: 3}\n",
      "-->Right Branch [155, 282]\n",
      "-->-->depth: 2 entropy: 0.3778507290025325\n",
      "-->-->Left Branch [17, 15]\n",
      "-->-->Right Branch [138, 267]\n"
     ]
    },
    {
     "data": {
      "text/plain": [
       "2"
      ]
     },
     "execution_count": 359,
     "metadata": {},
     "output_type": "execute_result"
    }
   ],
   "source": [
    "a,b,c =print_model_depth(loaded_model,2,root_node=[], leaf_node=[])\n",
    "len(c)"
   ]
  },
  {
   "cell_type": "code",
   "execution_count": 206,
   "metadata": {},
   "outputs": [],
   "source": [
    "# getting max depth\n",
    "def find_depth(all_nodes):\n",
    "    \"\"\"\n",
    "    finding depth of tree\n",
    "    # leaf decision node count as final depth of decision node\n",
    "    # we have two list 1 for root decision nodes\n",
    "    # another for leaf decision node so use n_nodes[1] and check for max value\n",
    "    :param n_nodes:\n",
    "    :return:\n",
    "    \"\"\"\n",
    "    depth = 0\n",
    "    for i in range(len(all_nodes)):\n",
    "        if np.amax(all_nodes[i][1]) > depth:\n",
    "            depth = np.amax(all_nodes[i][1])\n",
    "    return depth\n",
    "\n",
    "# find probability for prediction\n",
    "def predict_proba(prediction):\n",
    "    total = sum({prediction[i] for i in prediction})\n",
    "    result = {}\n",
    "    for i, v in prediction.items():\n",
    "        result[i] = v / total\n",
    "\n",
    "    return result\n"
   ]
  },
  {
   "cell_type": "code",
   "execution_count": 207,
   "metadata": {},
   "outputs": [],
   "source": [
    "def print_tree_depth(node, depth=1, spacing=\"\"):\n",
    "    \n",
    "    # Base case: we've reached a leaf\n",
    "    if isinstance(node, Leaf):\n",
    "        print(spacing + \"Predict\", node.predictions)\n",
    "        return\n",
    "    \n",
    "    # Print the question at this node    \n",
    "    print(spacing + str(node.question), str(node.depth))    \n",
    "    \n",
    "    if depth > int(node.depth):        \n",
    "        # Call this function recursively on the true branch\n",
    "        print(spacing + '--> True:')\n",
    "        print_tree_depth(node.true_branch, depth, spacing + \"  \")\n",
    "\n",
    "    # Call this function recursively on the false branch\n",
    "        print(spacing + '--> False:')\n",
    "        print_tree_depth(node.false_branch, depth, spacing + \"  \")\n"
   ]
  },
  {
   "cell_type": "code",
   "execution_count": 360,
   "metadata": {},
   "outputs": [],
   "source": [
    "# model prediction\n",
    "def classify_depth(x_point, model, depth=1):    \n",
    "    if isinstance(model, Leaf):\n",
    "\n",
    "        if len(model.predictions) >= 2:        \n",
    "            pred_dict = predict_proba(model.predictions)\n",
    "            max_prob = 0\n",
    "            label_name = 0\n",
    "\n",
    "            for i, v in pred_dict.items():\n",
    "                if v >= max_prob:\n",
    "                    max_prob = v # in case of of 50/50 choose last one\n",
    "                    label_name = i\n",
    "            return int(label_name)\n",
    "        else:\n",
    "            #print(model.predictions)            \n",
    "            return next(iter(model.predictions))\n",
    "    else:\n",
    "        pt = np.append(x_point[model.indexes], 1)\n",
    "        r = model.question.T.dot(pt)\n",
    "        if depth > int(model.depth):            \n",
    "            if r > 0:\n",
    "                return classify_depth(x_point, model.true_branch, depth)\n",
    "            else:\n",
    "                return classify_depth(x_point, model.false_branch, depth)\n",
    "        print(\"from inner node: {}\".format(r))\n",
    "        \n",
    "        if r > 0:\n",
    "            r = 1\n",
    "        else:\n",
    "            r = 0\n",
    "\n",
    "        return r"
   ]
  },
  {
   "cell_type": "code",
   "execution_count": 361,
   "metadata": {},
   "outputs": [
    {
     "name": "stdout",
     "output_type": "stream",
     "text": [
      "1\n",
      "from inner node: -0.30927370259994036\n"
     ]
    },
    {
     "data": {
      "text/plain": [
       "0"
      ]
     },
     "execution_count": 361,
     "metadata": {},
     "output_type": "execute_result"
    }
   ],
   "source": [
    "print(train[1][65])\n",
    "classify_depth(train[0][65], loaded_model, 0)"
   ]
  },
  {
   "cell_type": "code",
   "execution_count": 362,
   "metadata": {},
   "outputs": [],
   "source": [
    "# predict call request\n",
    "def predict_depth(x, tree, depth):\n",
    "    # for storing predicted values\n",
    "    yh_list = []\n",
    "    # if only one value is passed then direct compute else do in loop\n",
    "    if len(x.shape) == 1:\n",
    "        return classify_depth(x, tree, depth)\n",
    "    else:\n",
    "        for i, value in enumerate(x):\n",
    "            yh = classify_depth(value, tree, depth)\n",
    "            yh_list.append(yh)\n",
    "        return yh_list"
   ]
  },
  {
   "cell_type": "code",
   "execution_count": 368,
   "metadata": {},
   "outputs": [],
   "source": [
    "y_pred = predict_depth(train[0], loaded_model, 15)"
   ]
  },
  {
   "cell_type": "code",
   "execution_count": 401,
   "metadata": {},
   "outputs": [],
   "source": [
    "from sklearn.metrics import accuracy_score, confusion_matrix"
   ]
  },
  {
   "cell_type": "code",
   "execution_count": 370,
   "metadata": {},
   "outputs": [
    {
     "name": "stdout",
     "output_type": "stream",
     "text": [
      "0.5289778714436248\n"
     ]
    },
    {
     "data": {
      "text/plain": [
       "array([[335, 306],\n",
       "       [141, 167]], dtype=int64)"
      ]
     },
     "execution_count": 370,
     "metadata": {},
     "output_type": "execute_result"
    }
   ],
   "source": [
    "print(accuracy_score(y_pred, train[1]))\n",
    "confusion_matrix(y_pred, train[1])"
   ]
  },
  {
   "cell_type": "code",
   "execution_count": 373,
   "metadata": {
    "collapsed": true,
    "jupyter": {
     "outputs_hidden": true
    }
   },
   "outputs": [
    {
     "name": "stdout",
     "output_type": "stream",
     "text": [
      "{0: 4}\n",
      "{0: 2}\n",
      "{0: 2}\n",
      "{0: 1}\n",
      "{0: 1}\n",
      "{0: 2}\n",
      "{0: 2}\n",
      "{0: 1}\n",
      "{0: 4}\n",
      "{0: 1}\n",
      "{0: 2}\n",
      "{0: 2}\n",
      "{0: 1}\n",
      "{0: 1}\n",
      "{0: 2}\n",
      "{0: 2}\n"
     ]
    }
   ],
   "source": [
    "from mvdts.dt_common.prediction import predict\n",
    "y_dtc_pred = predict(test[0], loaded_model)"
   ]
  },
  {
   "cell_type": "code",
   "execution_count": 388,
   "metadata": {},
   "outputs": [
    {
     "name": "stdout",
     "output_type": "stream",
     "text": [
      "0.5163329820864068\n"
     ]
    },
    {
     "data": {
      "text/plain": [
       "array([[330, 148],\n",
       "       [311, 160]], dtype=int64)"
      ]
     },
     "execution_count": 388,
     "metadata": {},
     "output_type": "execute_result"
    }
   ],
   "source": [
    "print(accuracy_score(test[1], y_dtc_pred))\n",
    "confusion_matrix(test[1], y_dtc_pred)"
   ]
  },
  {
   "cell_type": "code",
   "execution_count": 387,
   "metadata": {},
   "outputs": [
    {
     "data": {
      "text/plain": [
       "'[0.79898477 0.75711382]'"
      ]
     },
     "execution_count": 387,
     "metadata": {},
     "output_type": "execute_result"
    }
   ],
   "source": [
    "df.accuracy[43]"
   ]
  },
  {
   "cell_type": "code",
   "execution_count": 356,
   "metadata": {},
   "outputs": [],
   "source": [
    "\n",
    "#print_model(df.pkl_location_name[0])\n",
    "#print_model(loaded_model)"
   ]
  },
  {
   "cell_type": "code",
   "execution_count": 546,
   "metadata": {},
   "outputs": [],
   "source": [
    "def level_wise_model_info(tree, level):\n",
    "    pass\n"
   ]
  },
  {
   "cell_type": "code",
   "execution_count": 548,
   "metadata": {},
   "outputs": [],
   "source": [
    "def count_left_right_nodes_level_wise(tree, level):\n",
    "    if level == all:\n",
    "        #use all  levele\n",
    "        pass\n",
    "    pass"
   ]
  },
  {
   "cell_type": "code",
   "execution_count": 13,
   "metadata": {},
   "outputs": [],
   "source": [
    "from mvdts.dt_common.nodes import DecisionNode, Leaf\n",
    "\n",
    "def intermediate_prediction(tree, level):\n",
    "    #make temp tree\n",
    "    pass\n",
    "\n",
    "def i_p(tree, level):\n",
    "    # hold information and make predict like in print function\n",
    "    pass"
   ]
  },
  {
   "cell_type": "code",
   "execution_count": 550,
   "metadata": {},
   "outputs": [
    {
     "ename": "SyntaxError",
     "evalue": "invalid syntax (<ipython-input-550-f6077e8f59da>, line 2)",
     "output_type": "error",
     "traceback": [
      "\u001b[1;36m  File \u001b[1;32m\"<ipython-input-550-f6077e8f59da>\"\u001b[1;36m, line \u001b[1;32m2\u001b[0m\n\u001b[1;33m    return both single and list of instance\u001b[0m\n\u001b[1;37m                     ^\u001b[0m\n\u001b[1;31mSyntaxError\u001b[0m\u001b[1;31m:\u001b[0m invalid syntax\n"
     ]
    }
   ],
   "source": [
    "def finding_int(column_name, value_type=\"int/float\"):\n",
    "    #return both single and list of instance\n",
    "    pass"
   ]
  },
  {
   "cell_type": "code",
   "execution_count": 761,
   "metadata": {},
   "outputs": [
    {
     "ename": "IndexError",
     "evalue": "list index out of range",
     "output_type": "error",
     "traceback": [
      "\u001b[1;31m---------------------------------------------------------------------------\u001b[0m",
      "\u001b[1;31mIndexError\u001b[0m                                Traceback (most recent call last)",
      "\u001b[1;32m<ipython-input-761-c4f5e904b0d5>\u001b[0m in \u001b[0;36m<module>\u001b[1;34m\u001b[0m\n\u001b[0;32m      1\u001b[0m \u001b[0mtrain\u001b[0m \u001b[1;33m=\u001b[0m \u001b[0mdf\u001b[0m\u001b[1;33m.\u001b[0m\u001b[0mtrain_true_predict\u001b[0m\u001b[1;33m[\u001b[0m\u001b[1;36m0\u001b[0m\u001b[1;33m]\u001b[0m\u001b[1;33m.\u001b[0m\u001b[0msplit\u001b[0m\u001b[1;33m(\u001b[0m\u001b[1;34m\"array\"\u001b[0m\u001b[1;33m)\u001b[0m\u001b[1;33m[\u001b[0m\u001b[1;36m1\u001b[0m\u001b[1;33m]\u001b[0m\u001b[1;33m.\u001b[0m\u001b[0msplit\u001b[0m\u001b[1;33m(\u001b[0m\u001b[1;34m\",\"\u001b[0m\u001b[1;33m)\u001b[0m\u001b[1;33m\u001b[0m\u001b[1;33m\u001b[0m\u001b[0m\n\u001b[1;32m----> 2\u001b[1;33m \u001b[0mtest\u001b[0m \u001b[1;33m=\u001b[0m \u001b[0mdf\u001b[0m\u001b[1;33m.\u001b[0m\u001b[0mtrain_true_predict\u001b[0m\u001b[1;33m[\u001b[0m\u001b[1;36m0\u001b[0m\u001b[1;33m]\u001b[0m\u001b[1;33m.\u001b[0m\u001b[0msplit\u001b[0m\u001b[1;33m(\u001b[0m\u001b[1;34m\"array\"\u001b[0m\u001b[1;33m)\u001b[0m\u001b[1;33m[\u001b[0m\u001b[1;36m2\u001b[0m\u001b[1;33m]\u001b[0m\u001b[1;33m.\u001b[0m\u001b[0msplit\u001b[0m\u001b[1;33m(\u001b[0m\u001b[1;34m\",\"\u001b[0m\u001b[1;33m)\u001b[0m\u001b[1;33m\u001b[0m\u001b[1;33m\u001b[0m\u001b[0m\n\u001b[0m\u001b[0;32m      3\u001b[0m \u001b[0mlen\u001b[0m\u001b[1;33m(\u001b[0m\u001b[1;33m[\u001b[0m\u001b[0mre\u001b[0m\u001b[1;33m.\u001b[0m\u001b[0mfindall\u001b[0m\u001b[1;33m(\u001b[0m\u001b[1;34m\"\\d+\"\u001b[0m\u001b[1;33m,\u001b[0m\u001b[0mt\u001b[0m\u001b[1;33m)\u001b[0m \u001b[1;32mfor\u001b[0m \u001b[0mt\u001b[0m \u001b[1;32min\u001b[0m \u001b[0mtest\u001b[0m\u001b[1;33m]\u001b[0m\u001b[1;33m)\u001b[0m\u001b[1;33m\u001b[0m\u001b[1;33m\u001b[0m\u001b[0m\n",
      "\u001b[1;31mIndexError\u001b[0m: list index out of range"
     ]
    }
   ],
   "source": [
    "train = df.train_true_predict[0].split(\"array\")[1].split(\",\")\n",
    "test = df.train_true_predict[0].split(\"array\")[2].split(\",\")\n",
    "len([re.findall(\"\\d+\",t) for t in test])"
   ]
  },
  {
   "cell_type": "code",
   "execution_count": null,
   "metadata": {},
   "outputs": [],
   "source": []
  },
  {
   "cell_type": "code",
   "execution_count": 509,
   "metadata": {},
   "outputs": [
    {
     "data": {
      "text/plain": [
       "['13', '4']"
      ]
     },
     "execution_count": 509,
     "metadata": {},
     "output_type": "execute_result"
    }
   ],
   "source": [
    "re.findall(\"\\d+\", \"Current Level: 13.4 db.\")"
   ]
  },
  {
   "cell_type": "code",
   "execution_count": 762,
   "metadata": {},
   "outputs": [
    {
     "data": {
      "text/plain": [
       "0.72256098"
      ]
     },
     "execution_count": 762,
     "metadata": {},
     "output_type": "execute_result"
    }
   ],
   "source": [
    "# get floating point value only\n",
    "re.findall(\"\\d+\\.\\d+\", \"Current Level: 13.4 db.\")\n",
    "float(re.findall(\"\\d+\\.\\d+\", df.accuracy[0].split(\" \")[0])[0])"
   ]
  },
  {
   "cell_type": "code",
   "execution_count": 763,
   "metadata": {},
   "outputs": [],
   "source": [
    "def read_data(dataLocation):\n",
    "    \"\"\"\n",
    "   Reading data and returning in proper format\n",
    "   :param dataLocation: location of data\n",
    "   :return: set of features, labels and combine\n",
    "   \"\"\"\n",
    "    df = pd.read_csv(dataLocation)\n",
    "\n",
    "    X = np.array(df[df.columns[:-1]].values.tolist())\n",
    "    y = np.array(df[df.columns[-1]].values.tolist())\n",
    "    return [X, y]"
   ]
  },
  {
   "cell_type": "code",
   "execution_count": 764,
   "metadata": {},
   "outputs": [],
   "source": [
    "train = read_data(\"data/20newsgroup/k1/final/30D_20newsgroup_k1_train.csv\")\n",
    "test = read_data(\"data/20newsgroup/k1/final/30D_20newsgroup_k1_test.csv\")"
   ]
  },
  {
   "cell_type": "code",
   "execution_count": 772,
   "metadata": {},
   "outputs": [],
   "source": [
    "ss = [1,2,3,4,5]"
   ]
  },
  {
   "cell_type": "code",
   "execution_count": 774,
   "metadata": {},
   "outputs": [
    {
     "data": {
      "text/plain": [
       "[1, 2, 3, 4, 5]"
      ]
     },
     "execution_count": 774,
     "metadata": {},
     "output_type": "execute_result"
    }
   ],
   "source": [
    "ss"
   ]
  },
  {
   "cell_type": "code",
   "execution_count": 775,
   "metadata": {},
   "outputs": [
    {
     "data": {
      "text/plain": [
       "list"
      ]
     },
     "execution_count": 775,
     "metadata": {},
     "output_type": "execute_result"
    }
   ],
   "source": [
    "type(ss)"
   ]
  },
  {
   "cell_type": "code",
   "execution_count": null,
   "metadata": {},
   "outputs": [],
   "source": []
  },
  {
   "cell_type": "code",
   "execution_count": 776,
   "metadata": {},
   "outputs": [
    {
     "data": {
      "text/plain": [
       "list"
      ]
     },
     "execution_count": 776,
     "metadata": {},
     "output_type": "execute_result"
    }
   ],
   "source": [
    "type(list(train[1]))"
   ]
  },
  {
   "cell_type": "code",
   "execution_count": 110,
   "metadata": {},
   "outputs": [
    {
     "data": {
      "text/plain": [
       "(949, 30)"
      ]
     },
     "execution_count": 110,
     "metadata": {},
     "output_type": "execute_result"
    }
   ],
   "source": [
    "test[0].shape"
   ]
  },
  {
   "cell_type": "code",
   "execution_count": 23,
   "metadata": {},
   "outputs": [
    {
     "name": "stdout",
     "output_type": "stream",
     "text": [
      "leaf node\n"
     ]
    }
   ],
   "source": [
    "left_0 = 0\n",
    "left_1 = 0\n",
    "right_0 = 2\n",
    "right_1 = 1\n",
    "\n",
    "if (left_0 == 0 and left_1 == 0) or (right_0 == 0 and right_1 == 0):\n",
    "    print(\"leaf node\")\n",
    "else:\n",
    "    print(\"inner node\")"
   ]
  },
  {
   "cell_type": "code",
   "execution_count": 3,
   "metadata": {},
   "outputs": [],
   "source": [
    "from math import log2\n",
    "# for calculating entropy, this can be change based on requirement\n",
    "def entropy(a, b):\n",
    "    # a, b must have integer number\n",
    "\n",
    "    if a == 0:\n",
    "        return 0\n",
    "    elif b == 0:\n",
    "        return 0\n",
    "    else:\n",
    "        c = a + b\n",
    "        e = -(a/c) * log2(a/c) - (b/c) * log2(b/c);\n",
    "        return e"
   ]
  },
  {
   "cell_type": "code",
   "execution_count": 35,
   "metadata": {},
   "outputs": [
    {
     "data": {
      "text/plain": [
       "0.9852281360342516"
      ]
     },
     "execution_count": 35,
     "metadata": {},
     "output_type": "execute_result"
    }
   ],
   "source": [
    "entropy(9,12)"
   ]
  },
  {
   "cell_type": "code",
   "execution_count": null,
   "metadata": {},
   "outputs": [],
   "source": [
    "def dff(md)\n"
   ]
  },
  {
   "cell_type": "code",
   "execution_count": 34,
   "metadata": {},
   "outputs": [
    {
     "data": {
      "text/plain": [
       "0"
      ]
     },
     "execution_count": 34,
     "metadata": {},
     "output_type": "execute_result"
    }
   ],
   "source": [
    "l = []\n",
    "len(l)"
   ]
  },
  {
   "cell_type": "code",
   "execution_count": 711,
   "metadata": {},
   "outputs": [],
   "source": [
    "from sklearn.datasets import load_iris\n",
    "from sklearn import tree\n",
    "clf = tree.DecisionTreeClassifier(criterion = \"entropy\",random_state=0)\n",
    "iris = load_iris()\n",
    "clf = clf.fit(iris.data, iris.target)"
   ]
  },
  {
   "cell_type": "code",
   "execution_count": 716,
   "metadata": {},
   "outputs": [
    {
     "name": "stdout",
     "output_type": "stream",
     "text": [
      "17 17\n"
     ]
    }
   ],
   "source": [
    "print(len(clf.tree_.children_left),len(clf.tree_.children_right))"
   ]
  },
  {
   "cell_type": "code",
   "execution_count": 720,
   "metadata": {},
   "outputs": [
    {
     "data": {
      "text/plain": [
       "[Text(167.4, 199.32, 'X[3] <= 0.8\\nentropy = 1.585\\nsamples = 150\\nvalue = [50, 50, 50]'),\n",
       " Text(141.64615384615385, 163.07999999999998, 'entropy = 0.0\\nsamples = 50\\nvalue = [50, 0, 0]'),\n",
       " Text(193.15384615384616, 163.07999999999998, 'X[3] <= 1.75\\nentropy = 1.0\\nsamples = 100\\nvalue = [0, 50, 50]'),\n",
       " Text(103.01538461538462, 126.83999999999999, 'X[2] <= 4.95\\nentropy = 0.445\\nsamples = 54\\nvalue = [0, 49, 5]'),\n",
       " Text(51.50769230769231, 90.6, 'X[3] <= 1.65\\nentropy = 0.146\\nsamples = 48\\nvalue = [0, 47, 1]'),\n",
       " Text(25.753846153846155, 54.359999999999985, 'entropy = 0.0\\nsamples = 47\\nvalue = [0, 47, 0]'),\n",
       " Text(77.26153846153846, 54.359999999999985, 'entropy = 0.0\\nsamples = 1\\nvalue = [0, 0, 1]'),\n",
       " Text(154.52307692307693, 90.6, 'X[3] <= 1.55\\nentropy = 0.918\\nsamples = 6\\nvalue = [0, 2, 4]'),\n",
       " Text(128.76923076923077, 54.359999999999985, 'entropy = 0.0\\nsamples = 3\\nvalue = [0, 0, 3]'),\n",
       " Text(180.27692307692308, 54.359999999999985, 'X[2] <= 5.45\\nentropy = 0.918\\nsamples = 3\\nvalue = [0, 2, 1]'),\n",
       " Text(154.52307692307693, 18.119999999999976, 'entropy = 0.0\\nsamples = 2\\nvalue = [0, 2, 0]'),\n",
       " Text(206.03076923076924, 18.119999999999976, 'entropy = 0.0\\nsamples = 1\\nvalue = [0, 0, 1]'),\n",
       " Text(283.2923076923077, 126.83999999999999, 'X[2] <= 4.85\\nentropy = 0.151\\nsamples = 46\\nvalue = [0, 1, 45]'),\n",
       " Text(257.53846153846155, 90.6, 'X[1] <= 3.1\\nentropy = 0.918\\nsamples = 3\\nvalue = [0, 1, 2]'),\n",
       " Text(231.7846153846154, 54.359999999999985, 'entropy = 0.0\\nsamples = 2\\nvalue = [0, 0, 2]'),\n",
       " Text(283.2923076923077, 54.359999999999985, 'entropy = 0.0\\nsamples = 1\\nvalue = [0, 1, 0]'),\n",
       " Text(309.04615384615386, 90.6, 'entropy = 0.0\\nsamples = 43\\nvalue = [0, 0, 43]')]"
      ]
     },
     "execution_count": 720,
     "metadata": {},
     "output_type": "execute_result"
    },
    {
     "data": {
      "image/png": "[encoded data removed]",
      "text/plain": [
       "<Figure size 432x288 with 1 Axes>"
      ]
     },
     "metadata": {
      "needs_background": "light"
     },
     "output_type": "display_data"
    }
   ],
   "source": [
    "tree.plot_tree(clf)  # doctest: +SKIP"
   ]
  },
  {
   "cell_type": "code",
   "execution_count": 732,
   "metadata": {},
   "outputs": [
    {
     "data": {
      "text/plain": [
       "array([ 2, -1, 12,  7,  6, -1, -1,  9, -1, 11, -1, -1, 16, 15, -1, -1, -1],\n",
       "      dtype=int64)"
      ]
     },
     "execution_count": 732,
     "metadata": {},
     "output_type": "execute_result"
    }
   ],
   "source": [
    "clf.tree_.children_right"
   ]
  },
  {
   "cell_type": "code",
   "execution_count": 738,
   "metadata": {},
   "outputs": [],
   "source": [
    "def get_cart_model_info(model):\n",
    "    all_nodes = model.tree_.node_count\n",
    "\n",
    "    leaf_node = model.tree_.n_leaves\n",
    "    inner_node = all_nodes - leaf_node\n",
    "    max_depth = model.tree_.max_depth\n",
    "\n",
    "    return inner_node, leaf_node, all_nodes, max_depth"
   ]
  },
  {
   "cell_type": "code",
   "execution_count": 739,
   "metadata": {},
   "outputs": [
    {
     "data": {
      "text/plain": [
       "(8, 9, 17, 5)"
      ]
     },
     "execution_count": 739,
     "metadata": {},
     "output_type": "execute_result"
    }
   ],
   "source": [
    "get_cart_model_info(clf)"
   ]
  }
 ],
 "metadata": {
  "kernelspec": {
   "display_name": "Python 3",
   "language": "python",
   "name": "python3"
  },
  "language_info": {
   "codemirror_mode": {
    "name": "ipython",
    "version": 3
   },
   "file_extension": ".py",
   "mimetype": "text/x-python",
   "name": "python",
   "nbconvert_exporter": "python",
   "pygments_lexer": "ipython3",
   "version": "3.7.4"
  }
 },
 "nbformat": 4,
 "nbformat_minor": 4
}
