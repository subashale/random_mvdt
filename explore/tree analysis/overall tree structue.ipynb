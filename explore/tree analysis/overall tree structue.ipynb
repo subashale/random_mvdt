{
 "cells": [
  {
   "cell_type": "code",
   "execution_count": 1,
   "metadata": {},
   "outputs": [],
   "source": [
    "# tree structure finding from database\n",
    "import json\n",
    "from pymongo import MongoClient"
   ]
  },
  {
   "cell_type": "code",
   "execution_count": 28,
   "metadata": {},
   "outputs": [],
   "source": [
    "client = MongoClient('localhost', 27017)\n",
    "db = client['thesis']\n",
    "dataset = \"quora\"\n",
    "algo_list = ['lr_mvdt', 'rs_mvdt']"
   ]
  },
  {
   "cell_type": "code",
   "execution_count": 32,
   "metadata": {},
   "outputs": [],
   "source": [
    "tree_info = [{'algorith': 'lr_mvdt','zero_depth':0, 'perfect_balance':0, 'almost_balance': 0, 'left_skewed': 0, 'right_skewed': 0}, \n",
    "             {'algorith': 'rs_mvdt','zero_depth':0, 'perfect_balance':0, 'almost_balance': 0, 'left_skewed': 0, 'right_skewed': 0}]\n",
    "\n",
    "for idx, algo in enumerate(algo_list):\n",
    "    query = [\n",
    "        {'$match': {'dataset': dataset, 'algorithm': algo}},\n",
    "        {'$project': {'dataset':1, 'algorithm': 1, 'branch_sizes':1, 'max_depth':1, 'accuracy':1,'precision':1, 'recall':1}}\n",
    "    ]\n",
    "\n",
    "    query_result = db.quora.aggregate(query)\n",
    "    total = 0\n",
    "    for result in query_result:\n",
    "        if result['accuracy'][0] <= 0 and result['accuracy'][1] <= 0:\n",
    "            print(result['branch_sizes'][0], result['branch_sizes'][1], result['accuracy'], result['precision'], result['recall'])\n",
    "        total += 1\n",
    "        if result['max_depth'] == 0:\n",
    "            tree_info[idx]['zero_depth'] += 1\n",
    "        else:\n",
    "            total = result['branch_sizes'][0] + result['branch_sizes'][1]\n",
    "            left= result['branch_sizes'][0]\n",
    "            right = result['branch_sizes'][1]\n",
    "            \n",
    "            left_percent = (left/total)*100\n",
    "            right_percent = (right/total)*100\n",
    "            \n",
    "            difference = left_percent - right_percent\n",
    "            if difference == 0:\n",
    "                # perfect balance condition\n",
    "                tree_info[idx]['perfect_balance'] += 1\n",
    "            elif abs(difference) < 10:\n",
    "                # balance tree\n",
    "                tree_info[idx]['almost_balance'] += 1\n",
    "            elif difference > 0:\n",
    "                # if positive number than lef skewed since right is subtracted from left\n",
    "                tree_info[idx]['left_skewed'] += 1\n",
    "            elif difference < 0:\n",
    "                tree_info[idx]['right_skewed'] += 1\n",
    "                # if negative number than right skewed\n",
    "            else:\n",
    "                print(\"Some thing worng\", result['branch_sizes'])\n",
    "        \n",
    "#     print(total)"
   ]
  },
  {
   "cell_type": "code",
   "execution_count": 25,
   "metadata": {},
   "outputs": [
    {
     "data": {
      "text/plain": [
       "[{'algorith': 'lr_mvdt',\n",
       "  'zero_depth': 0,\n",
       "  'perfect_balance': 0,\n",
       "  'almost_balance': 0,\n",
       "  'left_skewed': 0,\n",
       "  'right_skewed': 0},\n",
       " {'algorith': 'rs_mvdt',\n",
       "  'zero_depth': 0,\n",
       "  'perfect_balance': 0,\n",
       "  'almost_balance': 0,\n",
       "  'left_skewed': 0,\n",
       "  'right_skewed': 0}]"
      ]
     },
     "execution_count": 25,
     "metadata": {},
     "output_type": "execute_result"
    }
   ],
   "source": [
    "tree_info"
   ]
  },
  {
   "cell_type": "code",
   "execution_count": null,
   "metadata": {},
   "outputs": [],
   "source": []
  }
 ],
 "metadata": {
  "kernelspec": {
   "display_name": "Python 3",
   "language": "python",
   "name": "python3"
  },
  "language_info": {
   "codemirror_mode": {
    "name": "ipython",
    "version": 3
   },
   "file_extension": ".py",
   "mimetype": "text/x-python",
   "name": "python",
   "nbconvert_exporter": "python",
   "pygments_lexer": "ipython3",
   "version": "3.7.4"
  }
 },
 "nbformat": 4,
 "nbformat_minor": 4
}
