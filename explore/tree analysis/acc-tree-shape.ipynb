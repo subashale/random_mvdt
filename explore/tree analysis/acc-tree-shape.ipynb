{
 "cells": [
  {
   "cell_type": "code",
   "execution_count": 85,
   "metadata": {},
   "outputs": [],
   "source": [
    "import json\n",
    "from pymongo import MongoClient\n",
    "import numpy as np"
   ]
  },
  {
   "cell_type": "code",
   "execution_count": 86,
   "metadata": {},
   "outputs": [],
   "source": [
    "client = MongoClient('localhost', 27017)\n",
    "db = client['thesis']\n",
    "# db_get = db.quora\n",
    "#20ng_CG_RM, imdb, quora\n",
    "dataset = \"quora\" #\n",
    "algo_list = ['lr_mvdt', 'rs_mvdt']\n",
    "old_col = ['ng', 'imdb', 'quora']\n",
    "new_col = ['treeng', 'treeim', 'treeqo']"
   ]
  },
  {
   "cell_type": "code",
   "execution_count": null,
   "metadata": {
    "jupyter": {
     "source_hidden": true
    }
   },
   "outputs": [],
   "source": [
    "# # No use of extra collection\n",
    "# for g, s in zip(old_col, new_col):\n",
    "#     for algo in algo_list:\n",
    "# #         db.treeng.find({algorithm:'lr_mvdt', accuracy_train:{$lte: 0.80}})\n",
    "\n",
    "#         query = [{'$match': {'algorithm': algo}},\n",
    "#                  {'$project':{'dataset':1, 'algorithm':1, 'accuracy': 1, 'max_depth':1, 'branch_sizes':1}},     \n",
    "# #                  {'$limit': 2}\n",
    "#                  ]\n",
    "        \n",
    "#         results = db[g].aggregate(query)\n",
    "\n",
    "#         for result in results:        \n",
    "#             new_result = {'dataset': result['dataset'],\n",
    "#                           'algorithm': result['algorithm'],\n",
    "#                           'accuracy_train': result['accuracy'][0],\n",
    "#                           'accuracy_test': result['accuracy'][1],\n",
    "#                           'left_branch': result['branch_sizes'][0],\n",
    "#                           'right_branch': result['branch_sizes'][1],\n",
    "#                           'branch_sizes': result['branch_sizes'],\n",
    "#                           'max_depth': result['max_depth']\n",
    "#                          }\n",
    "# #             print(new_result)\n",
    "            \n",
    "# #             db[s].insert_one(new_result)"
   ]
  },
  {
   "cell_type": "code",
   "execution_count": null,
   "metadata": {
    "jupyter": {
     "source_hidden": true
    }
   },
   "outputs": [],
   "source": [
    "\n",
    "tree_info = [{'algorithm': 'lr_mvdt','zero_depth':0, 'perfect_balance':0, 'almost_balance': 0, 'left_skewed': 0, 'right_skewed': 0}, \n",
    "             {'algorithm': 'rs_mvdt','zero_depth':0, 'perfect_balance':0, 'almost_balance': 0, 'left_skewed': 0, 'right_skewed': 0}]\n",
    "\n",
    "for idx, algo in enumerate(algo_list):\n",
    "#         print(algo)\n",
    "    query_show = [{'$match': {'algorithm': algo, 'accuracy_train':{'$gt': 0.75, '$lte': 80}}}]\n",
    "#         print(qqqq)\n",
    "    qre = db.treeqo.aggregate(query_show)\n",
    "    total = 0\n",
    "\n",
    "    for result in qre:\n",
    "#             print(result['dataset'])\n",
    "        total += 1\n",
    "        if result['max_depth'] == 0:\n",
    "            tree_info[idx]['zero_depth'] += 1\n",
    "        else:\n",
    "            total = result['branch_sizes'][0] + result['branch_sizes'][1]\n",
    "            left= result['branch_sizes'][0]\n",
    "            right = result['branch_sizes'][1]\n",
    "\n",
    "            left_percent = (left/total)*100\n",
    "            right_percent = (right/total)*100\n",
    "\n",
    "            difference = left_percent - right_percent\n",
    "            if difference == 0:\n",
    "                # perfect balance condition\n",
    "                tree_info[idx]['perfect_balance'] += 1\n",
    "            elif abs(difference) < 10:\n",
    "                # balance tree\n",
    "                tree_info[idx]['almost_balance'] += 1\n",
    "            elif difference > 0:\n",
    "                # if positive number than lef skewed since right is subtracted from left\n",
    "                tree_info[idx]['left_skewed'] += 1\n",
    "            elif difference < 0:\n",
    "                tree_info[idx]['right_skewed'] += 1\n",
    "                # if negative number than right skewed\n",
    "            else:\n",
    "                print(\"Some thing worng\", result['branch_sizes'])\n",
    "\n",
    "print(tree_info)\n"
   ]
  },
  {
   "cell_type": "code",
   "execution_count": null,
   "metadata": {
    "jupyter": {
     "source_hidden": true
    }
   },
   "outputs": [],
   "source": [
    "nn = {}\n",
    "for s in new_col:    \n",
    "    print(\"\\n\")\n",
    "    print(s)\n",
    "    print(\"_____\")\n",
    "    tree_info = [{'algorithm': 'lr_mvdt','zero_depth':0, 'perfect_balance':0, 'almost_balance': 0, 'left_skewed': 0, 'right_skewed': 0}, \n",
    "                 {'algorithm': 'rs_mvdt','zero_depth':0, 'perfect_balance':0, 'almost_balance': 0, 'left_skewed': 0, 'right_skewed': 0}]\n",
    "\n",
    "    for idx, algo in enumerate(algo_list):\n",
    "#         print(algo)\n",
    "        query_show = [{'$match': {'algorithm': algo, 'accuracy_train':{'$gt': 0.70, '$lte': 80}}}]\n",
    "#         print(qqqq)\n",
    "        qre = db[s].aggregate(query_show)\n",
    "        total = 0\n",
    "\n",
    "        for result in qre:\n",
    "#             print(result['dataset'])\n",
    "            total += 1\n",
    "            if result['max_depth'] == 0:\n",
    "                tree_info[idx]['zero_depth'] += 1\n",
    "            else:\n",
    "                total = result['branch_sizes'][0] + result['branch_sizes'][1]\n",
    "                left= result['branch_sizes'][0]\n",
    "                right = result['branch_sizes'][1]\n",
    "\n",
    "                left_percent = (left/total)*100\n",
    "                right_percent = (right/total)*100\n",
    "\n",
    "                difference = left_percent - right_percent\n",
    "                if difference == 0:\n",
    "                    # perfect balance condition\n",
    "                    tree_info[idx]['perfect_balance'] += 1\n",
    "                elif abs(difference) < 10:\n",
    "                    # balance tree\n",
    "                    tree_info[idx]['almost_balance'] += 1\n",
    "                elif difference > 0:\n",
    "                    # if positive number than lef skewed since right is subtracted from left\n",
    "                    tree_info[idx]['left_skewed'] += 1\n",
    "                elif difference < 0:\n",
    "                    tree_info[idx]['right_skewed'] += 1\n",
    "                    # if negative number than right skewed\n",
    "                else:\n",
    "                    print(\"Some thing worng\", result['branch_sizes'])\n",
    "\n",
    "    print(tree_info)\n",
    "#     nn[s] = tree_info\n",
    "#     nn.append(tree_info)\n",
    "print(nn)"
   ]
  },
  {
   "cell_type": "code",
   "execution_count": 66,
   "metadata": {
    "jupyter": {
     "source_hidden": true
    }
   },
   "outputs": [
    {
     "name": "stdout",
     "output_type": "stream",
     "text": [
      "18\n",
      "528\n"
     ]
    }
   ],
   "source": [
    "tree_info = [{'algorith': 'lr_mvdt','zero_depth':0, 'perfect_balance':0, 'almost_balance': 0, 'left_skewed': 0, 'right_skewed': 0}, \n",
    "             {'algorith': 'rs_mvdt','zero_depth':0, 'perfect_balance':0, 'almost_balance': 0, 'left_skewed': 0, 'right_skewed': 0}]\n",
    "\n",
    "for idx, algo in enumerate(algo_list):\n",
    "    query = [{'$match': {'algorithm': algo, 'accuracy.0':{'$gt': 0.70, '$lte': 75}}}]\n",
    "\n",
    "    query_result = db.imdb.aggregate(query)\n",
    "    total = 0\n",
    "    for result in query_result:\n",
    "\n",
    "        total += 1\n",
    "        if result['max_depth'] == 0:\n",
    "            tree_info[idx]['zero_depth'] += 1\n",
    "        else:\n",
    "            total = result['branch_sizes'][0] + result['branch_sizes'][1]\n",
    "            left= result['branch_sizes'][0]\n",
    "            right = result['branch_sizes'][1]\n",
    "            \n",
    "            left_percent = (left/total)*100\n",
    "            right_percent = (right/total)*100\n",
    "            \n",
    "            difference = left_percent - right_percent\n",
    "            if difference == 0:\n",
    "                # perfect balance condition\n",
    "                tree_info[idx]['perfect_balance'] += 1\n",
    "            elif abs(difference) < 10:\n",
    "                # balance tree\n",
    "                tree_info[idx]['almost_balance'] += 1\n",
    "            elif difference > 0:\n",
    "                # if positive number than lef skewed since right is subtracted from left\n",
    "                tree_info[idx]['left_skewed'] += 1\n",
    "            elif difference < 0:\n",
    "                tree_info[idx]['right_skewed'] += 1\n",
    "                # if negative number than right skewed\n",
    "            else:\n",
    "                print(\"Some thing worng\", result['branch_sizes'])\n",
    "        \n",
    "    print(total)"
   ]
  },
  {
   "cell_type": "code",
   "execution_count": 77,
   "metadata": {},
   "outputs": [],
   "source": [
    "query_list = [[{'$match': {'algorithm': algo, 'accuracy.0':{'$lte': 0.70}}}],\n",
    "            [{'$match': {'algorithm': algo, 'accuracy.0':{'$gt': 0.70, '$lte': 0.75}}}],\n",
    "            [{'$match': {'algorithm': algo, 'accuracy.0':{'$gt': 0.75, '$lte': 0.80}}}],\n",
    "             [{'$match': {'algorithm': algo, 'accuracy.0':{'$gt': 0.80, '$lte': 0.85}}}],\n",
    "            [{'$match': {'algorithm': algo, 'accuracy.0':{'$gt': 0.85}}}]]"
   ]
  },
  {
   "cell_type": "code",
   "execution_count": null,
   "metadata": {},
   "outputs": [],
   "source": []
  },
  {
   "cell_type": "code",
   "execution_count": null,
   "metadata": {},
   "outputs": [],
   "source": []
  },
  {
   "cell_type": "code",
   "execution_count": 127,
   "metadata": {},
   "outputs": [],
   "source": [
    "lln = []\n",
    "for d in old_col:\n",
    "#     print(\"\\n\",d)\n",
    "    del(tree_info)\n",
    "    tree_info = [{'algorith': 'lr_mvdt','zero_depth':0, 'perfect_balance':0, 'almost_balance': 0, 'left_skewed': 0, 'right_skewed': 0}, \n",
    "             {'algorith': 'rs_mvdt','zero_depth':0, 'perfect_balance':0, 'almost_balance': 0, 'left_skewed': 0, 'right_skewed': 0}]\n",
    "    for idx, algo in enumerate(algo_list):\n",
    "#         print(\"\\n\", algo,  \"\\n\")\n",
    "        query = [{'$match': {'algorithm': algo, 'accuracy.0':{'$gt': 0.85}}},\n",
    "                {'$project': {'dataset':1, 'algorithm': 1, 'branch_sizes':1, 'max_depth':1, 'accuracy':1,'precision':1, 'recall':1}}]\n",
    "        query_result = db[d].aggregate(query)\n",
    "        total = 0\n",
    "        for result in query_result:\n",
    "            \n",
    "            total += 1\n",
    "            if result['max_depth'] == 0:\n",
    "                tree_info[idx]['zero_depth'] += 1\n",
    "            else:\n",
    "                total = result['branch_sizes'][0] + result['branch_sizes'][1]\n",
    "                left= result['branch_sizes'][0]\n",
    "                right = result['branch_sizes'][1]\n",
    "\n",
    "                left_percent = (left/total)*100\n",
    "                right_percent = (right/total)*100\n",
    "\n",
    "                difference = left_percent - right_percent\n",
    "                if difference == 0:\n",
    "                    # perfect balance condition\n",
    "                    tree_info[idx]['perfect_balance'] += 1\n",
    "                elif abs(difference) < 10:\n",
    "                    # balance tree\n",
    "                    tree_info[idx]['almost_balance'] += 1\n",
    "                elif difference > 0:\n",
    "                    # if positive number than lef skewed since right is subtracted from left\n",
    "                    tree_info[idx]['left_skewed'] += 1\n",
    "                elif difference < 0:\n",
    "                    tree_info[idx]['right_skewed'] += 1\n",
    "                    # if negative number than right skewed\n",
    "                else:\n",
    "                    print(\"Some thing worng\", result['branch_sizes'])\n",
    "\n",
    "#             print(total)\n",
    "    lln.append(tree_info)\n",
    "#     print(tree_info, \"\\n\")"
   ]
  },
  {
   "cell_type": "code",
   "execution_count": 128,
   "metadata": {},
   "outputs": [
    {
     "name": "stdout",
     "output_type": "stream",
     "text": [
      "[{'algorith': 'lr_mvdt', 'zero_depth': 1, 'perfect_balance': 14, 'almost_balance': 67, 'left_skewed': 139, 'right_skewed': 253}, {'algorith': 'rs_mvdt', 'zero_depth': 0, 'perfect_balance': 2, 'almost_balance': 20, 'left_skewed': 280, 'right_skewed': 97}] \n",
      "\n",
      "[{'algorith': 'lr_mvdt', 'zero_depth': 0, 'perfect_balance': 8, 'almost_balance': 332, 'left_skewed': 148, 'right_skewed': 305}, {'algorith': 'rs_mvdt', 'zero_depth': 0, 'perfect_balance': 3, 'almost_balance': 329, 'left_skewed': 313, 'right_skewed': 427}] \n",
      "\n",
      "[{'algorith': 'lr_mvdt', 'zero_depth': 176, 'perfect_balance': 16, 'almost_balance': 10, 'left_skewed': 134, 'right_skewed': 1014}, {'algorith': 'rs_mvdt', 'zero_depth': 0, 'perfect_balance': 0, 'almost_balance': 3, 'left_skewed': 67, 'right_skewed': 275}] \n",
      "\n"
     ]
    }
   ],
   "source": [
    "for i in lln:\n",
    "    print(i, \"\\n\")"
   ]
  },
  {
   "cell_type": "code",
   "execution_count": null,
   "metadata": {},
   "outputs": [],
   "source": []
  }
 ],
 "metadata": {
  "kernelspec": {
   "display_name": "Python 3",
   "language": "python",
   "name": "python3"
  },
  "language_info": {
   "codemirror_mode": {
    "name": "ipython",
    "version": 3
   },
   "file_extension": ".py",
   "mimetype": "text/x-python",
   "name": "python",
   "nbconvert_exporter": "python",
   "pygments_lexer": "ipython3",
   "version": "3.7.4"
  }
 },
 "nbformat": 4,
 "nbformat_minor": 4
}
